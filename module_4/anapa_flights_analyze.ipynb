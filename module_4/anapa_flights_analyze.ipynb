{
 "cells": [
  {
   "cell_type": "code",
   "execution_count": 61,
   "metadata": {},
   "outputs": [],
   "source": [
    "import numpy as np\n",
    "import pandas as pd\n",
    "import matplotlib.pyplot as plt\n",
    "import seaborn as sns \n",
    "%matplotlib inline\n",
    "data = pd.read_csv(\"anapa_flights.csv\") \n"
   ]
  },
  {
   "cell_type": "code",
   "execution_count": 62,
   "metadata": {},
   "outputs": [
    {
     "data": {
      "text/html": [
       "<div>\n",
       "<style scoped>\n",
       "    .dataframe tbody tr th:only-of-type {\n",
       "        vertical-align: middle;\n",
       "    }\n",
       "\n",
       "    .dataframe tbody tr th {\n",
       "        vertical-align: top;\n",
       "    }\n",
       "\n",
       "    .dataframe thead th {\n",
       "        text-align: right;\n",
       "    }\n",
       "</style>\n",
       "<table border=\"1\" class=\"dataframe\">\n",
       "  <thead>\n",
       "    <tr style=\"text-align: right;\">\n",
       "      <th></th>\n",
       "      <th>flight_id</th>\n",
       "      <th>airplane_model</th>\n",
       "      <th>flight_time</th>\n",
       "      <th>flight_revenue</th>\n",
       "      <th>seat_qty</th>\n",
       "      <th>arrival_airport</th>\n",
       "      <th>arrival_city</th>\n",
       "      <th>qty_booked_seats</th>\n",
       "      <th>actual_departure</th>\n",
       "      <th>actual_arrival</th>\n",
       "    </tr>\n",
       "  </thead>\n",
       "  <tbody>\n",
       "    <tr>\n",
       "      <th>119</th>\n",
       "      <td>136907</td>\n",
       "      <td>Sukhoi Superjet-100</td>\n",
       "      <td>51</td>\n",
       "      <td>759000.0</td>\n",
       "      <td>97</td>\n",
       "      <td>EGO</td>\n",
       "      <td>Belgorod</td>\n",
       "      <td>96.0</td>\n",
       "      <td>2017-01-16 09:31:00+00</td>\n",
       "      <td>2017-01-16 10:22:00+00</td>\n",
       "    </tr>\n",
       "    <tr>\n",
       "      <th>91</th>\n",
       "      <td>136733</td>\n",
       "      <td>Sukhoi Superjet-100</td>\n",
       "      <td>51</td>\n",
       "      <td>746400.0</td>\n",
       "      <td>97</td>\n",
       "      <td>EGO</td>\n",
       "      <td>Belgorod</td>\n",
       "      <td>94.0</td>\n",
       "      <td>2017-01-09 09:27:00+00</td>\n",
       "      <td>2017-01-09 10:18:00+00</td>\n",
       "    </tr>\n",
       "    <tr>\n",
       "      <th>49</th>\n",
       "      <td>136439</td>\n",
       "      <td>Boeing 737-300</td>\n",
       "      <td>100</td>\n",
       "      <td>1701800.0</td>\n",
       "      <td>130</td>\n",
       "      <td>SVO</td>\n",
       "      <td>Moscow</td>\n",
       "      <td>117.0</td>\n",
       "      <td>2017-02-25 10:08:00+00</td>\n",
       "      <td>2017-02-25 11:48:00+00</td>\n",
       "    </tr>\n",
       "    <tr>\n",
       "      <th>96</th>\n",
       "      <td>136767</td>\n",
       "      <td>Sukhoi Superjet-100</td>\n",
       "      <td>51</td>\n",
       "      <td>651300.0</td>\n",
       "      <td>97</td>\n",
       "      <td>EGO</td>\n",
       "      <td>Belgorod</td>\n",
       "      <td>83.0</td>\n",
       "      <td>2017-01-23 09:27:00+00</td>\n",
       "      <td>2017-01-23 10:18:00+00</td>\n",
       "    </tr>\n",
       "    <tr>\n",
       "      <th>3</th>\n",
       "      <td>136130</td>\n",
       "      <td>Boeing 737-300</td>\n",
       "      <td>99</td>\n",
       "      <td>1556600.0</td>\n",
       "      <td>130</td>\n",
       "      <td>SVO</td>\n",
       "      <td>Moscow</td>\n",
       "      <td>107.0</td>\n",
       "      <td>2017-02-13 10:07:00+00</td>\n",
       "      <td>2017-02-13 11:46:00+00</td>\n",
       "    </tr>\n",
       "    <tr>\n",
       "      <th>36</th>\n",
       "      <td>136348</td>\n",
       "      <td>Boeing 737-300</td>\n",
       "      <td>100</td>\n",
       "      <td>1762800.0</td>\n",
       "      <td>130</td>\n",
       "      <td>SVO</td>\n",
       "      <td>Moscow</td>\n",
       "      <td>120.0</td>\n",
       "      <td>2017-02-10 10:05:00+00</td>\n",
       "      <td>2017-02-10 11:45:00+00</td>\n",
       "    </tr>\n",
       "    <tr>\n",
       "      <th>34</th>\n",
       "      <td>136322</td>\n",
       "      <td>Boeing 737-300</td>\n",
       "      <td>101</td>\n",
       "      <td>1567600.0</td>\n",
       "      <td>130</td>\n",
       "      <td>SVO</td>\n",
       "      <td>Moscow</td>\n",
       "      <td>108.0</td>\n",
       "      <td>2017-02-06 10:11:00+00</td>\n",
       "      <td>2017-02-06 11:52:00+00</td>\n",
       "    </tr>\n",
       "    <tr>\n",
       "      <th>105</th>\n",
       "      <td>136823</td>\n",
       "      <td>Sukhoi Superjet-100</td>\n",
       "      <td>51</td>\n",
       "      <td>620400.0</td>\n",
       "      <td>97</td>\n",
       "      <td>EGO</td>\n",
       "      <td>Belgorod</td>\n",
       "      <td>78.0</td>\n",
       "      <td>2017-02-05 09:27:00+00</td>\n",
       "      <td>2017-02-05 10:18:00+00</td>\n",
       "    </tr>\n",
       "    <tr>\n",
       "      <th>73</th>\n",
       "      <td>136612</td>\n",
       "      <td>Sukhoi Superjet-100</td>\n",
       "      <td>50</td>\n",
       "      <td>746400.0</td>\n",
       "      <td>97</td>\n",
       "      <td>EGO</td>\n",
       "      <td>Belgorod</td>\n",
       "      <td>94.0</td>\n",
       "      <td>2017-02-21 09:27:00+00</td>\n",
       "      <td>2017-02-21 10:17:00+00</td>\n",
       "    </tr>\n",
       "    <tr>\n",
       "      <th>21</th>\n",
       "      <td>136250</td>\n",
       "      <td>Boeing 737-300</td>\n",
       "      <td>101</td>\n",
       "      <td>1407800.0</td>\n",
       "      <td>130</td>\n",
       "      <td>SVO</td>\n",
       "      <td>Moscow</td>\n",
       "      <td>99.0</td>\n",
       "      <td>2017-02-08 10:06:00+00</td>\n",
       "      <td>2017-02-08 11:47:00+00</td>\n",
       "    </tr>\n",
       "  </tbody>\n",
       "</table>\n",
       "</div>"
      ],
      "text/plain": [
       "     flight_id       airplane_model  flight_time  flight_revenue  seat_qty  \\\n",
       "119     136907  Sukhoi Superjet-100           51        759000.0        97   \n",
       "91      136733  Sukhoi Superjet-100           51        746400.0        97   \n",
       "49      136439       Boeing 737-300          100       1701800.0       130   \n",
       "96      136767  Sukhoi Superjet-100           51        651300.0        97   \n",
       "3       136130       Boeing 737-300           99       1556600.0       130   \n",
       "36      136348       Boeing 737-300          100       1762800.0       130   \n",
       "34      136322       Boeing 737-300          101       1567600.0       130   \n",
       "105     136823  Sukhoi Superjet-100           51        620400.0        97   \n",
       "73      136612  Sukhoi Superjet-100           50        746400.0        97   \n",
       "21      136250       Boeing 737-300          101       1407800.0       130   \n",
       "\n",
       "    arrival_airport arrival_city  qty_booked_seats        actual_departure  \\\n",
       "119             EGO     Belgorod              96.0  2017-01-16 09:31:00+00   \n",
       "91              EGO     Belgorod              94.0  2017-01-09 09:27:00+00   \n",
       "49              SVO       Moscow             117.0  2017-02-25 10:08:00+00   \n",
       "96              EGO     Belgorod              83.0  2017-01-23 09:27:00+00   \n",
       "3               SVO       Moscow             107.0  2017-02-13 10:07:00+00   \n",
       "36              SVO       Moscow             120.0  2017-02-10 10:05:00+00   \n",
       "34              SVO       Moscow             108.0  2017-02-06 10:11:00+00   \n",
       "105             EGO     Belgorod              78.0  2017-02-05 09:27:00+00   \n",
       "73              EGO     Belgorod              94.0  2017-02-21 09:27:00+00   \n",
       "21              SVO       Moscow              99.0  2017-02-08 10:06:00+00   \n",
       "\n",
       "             actual_arrival  \n",
       "119  2017-01-16 10:22:00+00  \n",
       "91   2017-01-09 10:18:00+00  \n",
       "49   2017-02-25 11:48:00+00  \n",
       "96   2017-01-23 10:18:00+00  \n",
       "3    2017-02-13 11:46:00+00  \n",
       "36   2017-02-10 11:45:00+00  \n",
       "34   2017-02-06 11:52:00+00  \n",
       "105  2017-02-05 10:18:00+00  \n",
       "73   2017-02-21 10:17:00+00  \n",
       "21   2017-02-08 11:47:00+00  "
      ]
     },
     "execution_count": 62,
     "metadata": {},
     "output_type": "execute_result"
    }
   ],
   "source": [
    "data.sample(10)"
   ]
  },
  {
   "cell_type": "code",
   "execution_count": 63,
   "metadata": {},
   "outputs": [
    {
     "name": "stdout",
     "output_type": "stream",
     "text": [
      "<class 'pandas.core.frame.DataFrame'>\n",
      "RangeIndex: 127 entries, 0 to 126\n",
      "Data columns (total 10 columns):\n",
      " #   Column            Non-Null Count  Dtype  \n",
      "---  ------            --------------  -----  \n",
      " 0   flight_id         127 non-null    int64  \n",
      " 1   airplane_model    127 non-null    object \n",
      " 2   flight_time       127 non-null    int64  \n",
      " 3   flight_revenue    118 non-null    float64\n",
      " 4   seat_qty          127 non-null    int64  \n",
      " 5   arrival_airport   127 non-null    object \n",
      " 6   arrival_city      127 non-null    object \n",
      " 7   qty_booked_seats  118 non-null    float64\n",
      " 8   actual_departure  127 non-null    object \n",
      " 9   actual_arrival    127 non-null    object \n",
      "dtypes: float64(2), int64(3), object(5)\n",
      "memory usage: 10.0+ KB\n"
     ]
    }
   ],
   "source": [
    "data.info()"
   ]
  },
  {
   "cell_type": "code",
   "execution_count": 64,
   "metadata": {},
   "outputs": [
    {
     "name": "stderr",
     "output_type": "stream",
     "text": [
      "C:\\Users\\ivan.gurinovich\\Anaconda3\\lib\\site-packages\\seaborn\\distributions.py:288: UserWarning: Data must have variance to compute a kernel density estimate.\n",
      "  warnings.warn(msg, UserWarning)\n",
      "C:\\Users\\ivan.gurinovich\\Anaconda3\\lib\\site-packages\\seaborn\\distributions.py:288: UserWarning: Data must have variance to compute a kernel density estimate.\n",
      "  warnings.warn(msg, UserWarning)\n",
      "C:\\Users\\ivan.gurinovich\\Anaconda3\\lib\\site-packages\\seaborn\\distributions.py:288: UserWarning: Data must have variance to compute a kernel density estimate.\n",
      "  warnings.warn(msg, UserWarning)\n"
     ]
    },
    {
     "data": {
      "text/plain": [
       "<seaborn.axisgrid.PairGrid at 0x1a96e08d288>"
      ]
     },
     "execution_count": 64,
     "metadata": {},
     "output_type": "execute_result"
    },
    {
     "data": {
      "image/png": "[encoded data removed]",
      "text/plain": [
       "<Figure size 826x720 with 20 Axes>"
      ]
     },
     "metadata": {
      "needs_background": "light"
     },
     "output_type": "display_data"
    }
   ],
   "source": [
    "sns.pairplot(data[['airplane_model','flight_time','seat_qty','flight_revenue','qty_booked_seats','arrival_city']], hue = 'arrival_city')"
   ]
  },
  {
   "cell_type": "code",
   "execution_count": 4,
   "metadata": {},
   "outputs": [
    {
     "ename": "SyntaxError",
     "evalue": "invalid syntax (<ipython-input-4-9865882a3092>, line 1)",
     "output_type": "error",
     "traceback": [
      "\u001b[1;36m  File \u001b[1;32m\"<ipython-input-4-9865882a3092>\"\u001b[1;36m, line \u001b[1;32m1\u001b[0m\n\u001b[1;33m    Делаем вывод, что в таблице есть, пропуски которые необходимо заполнить\u001b[0m\n\u001b[1;37m               ^\u001b[0m\n\u001b[1;31mSyntaxError\u001b[0m\u001b[1;31m:\u001b[0m invalid syntax\n"
     ]
    }
   ],
   "source": [
    "Делаем вывод, что в таблице практически нет информации о полетах в Новоузнецк"
   ]
  },
  {
   "cell_type": "code",
   "execution_count": 5,
   "metadata": {},
   "outputs": [
    {
     "data": {
      "text/html": [
       "<div>\n",
       "<style scoped>\n",
       "    .dataframe tbody tr th:only-of-type {\n",
       "        vertical-align: middle;\n",
       "    }\n",
       "\n",
       "    .dataframe tbody tr th {\n",
       "        vertical-align: top;\n",
       "    }\n",
       "\n",
       "    .dataframe thead th {\n",
       "        text-align: right;\n",
       "    }\n",
       "</style>\n",
       "<table border=\"1\" class=\"dataframe\">\n",
       "  <thead>\n",
       "    <tr style=\"text-align: right;\">\n",
       "      <th></th>\n",
       "      <th>flight_id</th>\n",
       "      <th>airplane_model</th>\n",
       "      <th>flight_time</th>\n",
       "      <th>flight_revenue</th>\n",
       "      <th>seat_qty</th>\n",
       "      <th>arrival_airport</th>\n",
       "      <th>arrival_city</th>\n",
       "      <th>qty_booked_seats</th>\n",
       "      <th>actual_departure</th>\n",
       "      <th>actual_arrival</th>\n",
       "    </tr>\n",
       "  </thead>\n",
       "  <tbody>\n",
       "    <tr>\n",
       "      <th>59</th>\n",
       "      <td>136511</td>\n",
       "      <td>Boeing 737-300</td>\n",
       "      <td>310</td>\n",
       "      <td>NaN</td>\n",
       "      <td>130</td>\n",
       "      <td>NOZ</td>\n",
       "      <td>Novokuznetsk</td>\n",
       "      <td>NaN</td>\n",
       "      <td>2017-02-21 06:15:00+00</td>\n",
       "      <td>2017-02-21 11:25:00+00</td>\n",
       "    </tr>\n",
       "    <tr>\n",
       "      <th>60</th>\n",
       "      <td>136513</td>\n",
       "      <td>Boeing 737-300</td>\n",
       "      <td>310</td>\n",
       "      <td>NaN</td>\n",
       "      <td>130</td>\n",
       "      <td>NOZ</td>\n",
       "      <td>Novokuznetsk</td>\n",
       "      <td>NaN</td>\n",
       "      <td>2017-02-28 06:13:00+00</td>\n",
       "      <td>2017-02-28 11:23:00+00</td>\n",
       "    </tr>\n",
       "    <tr>\n",
       "      <th>61</th>\n",
       "      <td>136514</td>\n",
       "      <td>Boeing 737-300</td>\n",
       "      <td>299</td>\n",
       "      <td>NaN</td>\n",
       "      <td>130</td>\n",
       "      <td>NOZ</td>\n",
       "      <td>Novokuznetsk</td>\n",
       "      <td>NaN</td>\n",
       "      <td>2017-02-07 06:14:00+00</td>\n",
       "      <td>2017-02-07 11:13:00+00</td>\n",
       "    </tr>\n",
       "    <tr>\n",
       "      <th>62</th>\n",
       "      <td>136523</td>\n",
       "      <td>Boeing 737-300</td>\n",
       "      <td>312</td>\n",
       "      <td>NaN</td>\n",
       "      <td>130</td>\n",
       "      <td>NOZ</td>\n",
       "      <td>Novokuznetsk</td>\n",
       "      <td>NaN</td>\n",
       "      <td>2017-01-10 06:14:00+00</td>\n",
       "      <td>2017-01-10 11:26:00+00</td>\n",
       "    </tr>\n",
       "    <tr>\n",
       "      <th>63</th>\n",
       "      <td>136540</td>\n",
       "      <td>Boeing 737-300</td>\n",
       "      <td>307</td>\n",
       "      <td>NaN</td>\n",
       "      <td>130</td>\n",
       "      <td>NOZ</td>\n",
       "      <td>Novokuznetsk</td>\n",
       "      <td>NaN</td>\n",
       "      <td>2017-01-17 06:14:00+00</td>\n",
       "      <td>2017-01-17 11:21:00+00</td>\n",
       "    </tr>\n",
       "    <tr>\n",
       "      <th>64</th>\n",
       "      <td>136544</td>\n",
       "      <td>Boeing 737-300</td>\n",
       "      <td>304</td>\n",
       "      <td>NaN</td>\n",
       "      <td>130</td>\n",
       "      <td>NOZ</td>\n",
       "      <td>Novokuznetsk</td>\n",
       "      <td>NaN</td>\n",
       "      <td>2017-01-31 06:10:00+00</td>\n",
       "      <td>2017-01-31 11:14:00+00</td>\n",
       "    </tr>\n",
       "    <tr>\n",
       "      <th>65</th>\n",
       "      <td>136546</td>\n",
       "      <td>Boeing 737-300</td>\n",
       "      <td>302</td>\n",
       "      <td>NaN</td>\n",
       "      <td>130</td>\n",
       "      <td>NOZ</td>\n",
       "      <td>Novokuznetsk</td>\n",
       "      <td>NaN</td>\n",
       "      <td>2017-01-03 06:13:00+00</td>\n",
       "      <td>2017-01-03 11:15:00+00</td>\n",
       "    </tr>\n",
       "    <tr>\n",
       "      <th>66</th>\n",
       "      <td>136560</td>\n",
       "      <td>Boeing 737-300</td>\n",
       "      <td>305</td>\n",
       "      <td>NaN</td>\n",
       "      <td>130</td>\n",
       "      <td>NOZ</td>\n",
       "      <td>Novokuznetsk</td>\n",
       "      <td>NaN</td>\n",
       "      <td>2017-01-24 06:13:00+00</td>\n",
       "      <td>2017-01-24 11:18:00+00</td>\n",
       "    </tr>\n",
       "    <tr>\n",
       "      <th>67</th>\n",
       "      <td>136567</td>\n",
       "      <td>Boeing 737-300</td>\n",
       "      <td>311</td>\n",
       "      <td>NaN</td>\n",
       "      <td>130</td>\n",
       "      <td>NOZ</td>\n",
       "      <td>Novokuznetsk</td>\n",
       "      <td>NaN</td>\n",
       "      <td>2017-02-14 06:12:00+00</td>\n",
       "      <td>2017-02-14 11:23:00+00</td>\n",
       "    </tr>\n",
       "  </tbody>\n",
       "</table>\n",
       "</div>"
      ],
      "text/plain": [
       "    flight_id  airplane_model  flight_time  flight_revenue  seat_qty  \\\n",
       "59     136511  Boeing 737-300          310             NaN       130   \n",
       "60     136513  Boeing 737-300          310             NaN       130   \n",
       "61     136514  Boeing 737-300          299             NaN       130   \n",
       "62     136523  Boeing 737-300          312             NaN       130   \n",
       "63     136540  Boeing 737-300          307             NaN       130   \n",
       "64     136544  Boeing 737-300          304             NaN       130   \n",
       "65     136546  Boeing 737-300          302             NaN       130   \n",
       "66     136560  Boeing 737-300          305             NaN       130   \n",
       "67     136567  Boeing 737-300          311             NaN       130   \n",
       "\n",
       "   arrival_airport  arrival_city  qty_booked_seats        actual_departure  \\\n",
       "59             NOZ  Novokuznetsk               NaN  2017-02-21 06:15:00+00   \n",
       "60             NOZ  Novokuznetsk               NaN  2017-02-28 06:13:00+00   \n",
       "61             NOZ  Novokuznetsk               NaN  2017-02-07 06:14:00+00   \n",
       "62             NOZ  Novokuznetsk               NaN  2017-01-10 06:14:00+00   \n",
       "63             NOZ  Novokuznetsk               NaN  2017-01-17 06:14:00+00   \n",
       "64             NOZ  Novokuznetsk               NaN  2017-01-31 06:10:00+00   \n",
       "65             NOZ  Novokuznetsk               NaN  2017-01-03 06:13:00+00   \n",
       "66             NOZ  Novokuznetsk               NaN  2017-01-24 06:13:00+00   \n",
       "67             NOZ  Novokuznetsk               NaN  2017-02-14 06:12:00+00   \n",
       "\n",
       "            actual_arrival  \n",
       "59  2017-02-21 11:25:00+00  \n",
       "60  2017-02-28 11:23:00+00  \n",
       "61  2017-02-07 11:13:00+00  \n",
       "62  2017-01-10 11:26:00+00  \n",
       "63  2017-01-17 11:21:00+00  \n",
       "64  2017-01-31 11:14:00+00  \n",
       "65  2017-01-03 11:15:00+00  \n",
       "66  2017-01-24 11:18:00+00  \n",
       "67  2017-02-14 11:23:00+00  "
      ]
     },
     "execution_count": 5,
     "metadata": {},
     "output_type": "execute_result"
    }
   ],
   "source": [
    "data[data['flight_revenue'].isnull()] # выводти таблицу с пропусками"
   ]
  },
  {
   "cell_type": "code",
   "execution_count": 6,
   "metadata": {},
   "outputs": [
    {
     "data": {
      "text/html": [
       "<div>\n",
       "<style scoped>\n",
       "    .dataframe tbody tr th:only-of-type {\n",
       "        vertical-align: middle;\n",
       "    }\n",
       "\n",
       "    .dataframe tbody tr th {\n",
       "        vertical-align: top;\n",
       "    }\n",
       "\n",
       "    .dataframe thead th {\n",
       "        text-align: right;\n",
       "    }\n",
       "</style>\n",
       "<table border=\"1\" class=\"dataframe\">\n",
       "  <thead>\n",
       "    <tr style=\"text-align: right;\">\n",
       "      <th></th>\n",
       "      <th>flight_id</th>\n",
       "      <th>airplane_model</th>\n",
       "      <th>flight_time</th>\n",
       "      <th>flight_revenue</th>\n",
       "      <th>seat_qty</th>\n",
       "      <th>arrival_airport</th>\n",
       "      <th>arrival_city</th>\n",
       "      <th>qty_booked_seats</th>\n",
       "      <th>actual_departure</th>\n",
       "      <th>actual_arrival</th>\n",
       "    </tr>\n",
       "  </thead>\n",
       "  <tbody>\n",
       "    <tr>\n",
       "      <th>59</th>\n",
       "      <td>136511</td>\n",
       "      <td>Boeing 737-300</td>\n",
       "      <td>310</td>\n",
       "      <td>NaN</td>\n",
       "      <td>130</td>\n",
       "      <td>NOZ</td>\n",
       "      <td>Novokuznetsk</td>\n",
       "      <td>NaN</td>\n",
       "      <td>2017-02-21 06:15:00+00</td>\n",
       "      <td>2017-02-21 11:25:00+00</td>\n",
       "    </tr>\n",
       "    <tr>\n",
       "      <th>60</th>\n",
       "      <td>136513</td>\n",
       "      <td>Boeing 737-300</td>\n",
       "      <td>310</td>\n",
       "      <td>NaN</td>\n",
       "      <td>130</td>\n",
       "      <td>NOZ</td>\n",
       "      <td>Novokuznetsk</td>\n",
       "      <td>NaN</td>\n",
       "      <td>2017-02-28 06:13:00+00</td>\n",
       "      <td>2017-02-28 11:23:00+00</td>\n",
       "    </tr>\n",
       "    <tr>\n",
       "      <th>61</th>\n",
       "      <td>136514</td>\n",
       "      <td>Boeing 737-300</td>\n",
       "      <td>299</td>\n",
       "      <td>NaN</td>\n",
       "      <td>130</td>\n",
       "      <td>NOZ</td>\n",
       "      <td>Novokuznetsk</td>\n",
       "      <td>NaN</td>\n",
       "      <td>2017-02-07 06:14:00+00</td>\n",
       "      <td>2017-02-07 11:13:00+00</td>\n",
       "    </tr>\n",
       "    <tr>\n",
       "      <th>62</th>\n",
       "      <td>136523</td>\n",
       "      <td>Boeing 737-300</td>\n",
       "      <td>312</td>\n",
       "      <td>NaN</td>\n",
       "      <td>130</td>\n",
       "      <td>NOZ</td>\n",
       "      <td>Novokuznetsk</td>\n",
       "      <td>NaN</td>\n",
       "      <td>2017-01-10 06:14:00+00</td>\n",
       "      <td>2017-01-10 11:26:00+00</td>\n",
       "    </tr>\n",
       "    <tr>\n",
       "      <th>63</th>\n",
       "      <td>136540</td>\n",
       "      <td>Boeing 737-300</td>\n",
       "      <td>307</td>\n",
       "      <td>NaN</td>\n",
       "      <td>130</td>\n",
       "      <td>NOZ</td>\n",
       "      <td>Novokuznetsk</td>\n",
       "      <td>NaN</td>\n",
       "      <td>2017-01-17 06:14:00+00</td>\n",
       "      <td>2017-01-17 11:21:00+00</td>\n",
       "    </tr>\n",
       "    <tr>\n",
       "      <th>64</th>\n",
       "      <td>136544</td>\n",
       "      <td>Boeing 737-300</td>\n",
       "      <td>304</td>\n",
       "      <td>NaN</td>\n",
       "      <td>130</td>\n",
       "      <td>NOZ</td>\n",
       "      <td>Novokuznetsk</td>\n",
       "      <td>NaN</td>\n",
       "      <td>2017-01-31 06:10:00+00</td>\n",
       "      <td>2017-01-31 11:14:00+00</td>\n",
       "    </tr>\n",
       "    <tr>\n",
       "      <th>65</th>\n",
       "      <td>136546</td>\n",
       "      <td>Boeing 737-300</td>\n",
       "      <td>302</td>\n",
       "      <td>NaN</td>\n",
       "      <td>130</td>\n",
       "      <td>NOZ</td>\n",
       "      <td>Novokuznetsk</td>\n",
       "      <td>NaN</td>\n",
       "      <td>2017-01-03 06:13:00+00</td>\n",
       "      <td>2017-01-03 11:15:00+00</td>\n",
       "    </tr>\n",
       "    <tr>\n",
       "      <th>66</th>\n",
       "      <td>136560</td>\n",
       "      <td>Boeing 737-300</td>\n",
       "      <td>305</td>\n",
       "      <td>NaN</td>\n",
       "      <td>130</td>\n",
       "      <td>NOZ</td>\n",
       "      <td>Novokuznetsk</td>\n",
       "      <td>NaN</td>\n",
       "      <td>2017-01-24 06:13:00+00</td>\n",
       "      <td>2017-01-24 11:18:00+00</td>\n",
       "    </tr>\n",
       "    <tr>\n",
       "      <th>67</th>\n",
       "      <td>136567</td>\n",
       "      <td>Boeing 737-300</td>\n",
       "      <td>311</td>\n",
       "      <td>NaN</td>\n",
       "      <td>130</td>\n",
       "      <td>NOZ</td>\n",
       "      <td>Novokuznetsk</td>\n",
       "      <td>NaN</td>\n",
       "      <td>2017-02-14 06:12:00+00</td>\n",
       "      <td>2017-02-14 11:23:00+00</td>\n",
       "    </tr>\n",
       "  </tbody>\n",
       "</table>\n",
       "</div>"
      ],
      "text/plain": [
       "    flight_id  airplane_model  flight_time  flight_revenue  seat_qty  \\\n",
       "59     136511  Boeing 737-300          310             NaN       130   \n",
       "60     136513  Boeing 737-300          310             NaN       130   \n",
       "61     136514  Boeing 737-300          299             NaN       130   \n",
       "62     136523  Boeing 737-300          312             NaN       130   \n",
       "63     136540  Boeing 737-300          307             NaN       130   \n",
       "64     136544  Boeing 737-300          304             NaN       130   \n",
       "65     136546  Boeing 737-300          302             NaN       130   \n",
       "66     136560  Boeing 737-300          305             NaN       130   \n",
       "67     136567  Boeing 737-300          311             NaN       130   \n",
       "\n",
       "   arrival_airport  arrival_city  qty_booked_seats        actual_departure  \\\n",
       "59             NOZ  Novokuznetsk               NaN  2017-02-21 06:15:00+00   \n",
       "60             NOZ  Novokuznetsk               NaN  2017-02-28 06:13:00+00   \n",
       "61             NOZ  Novokuznetsk               NaN  2017-02-07 06:14:00+00   \n",
       "62             NOZ  Novokuznetsk               NaN  2017-01-10 06:14:00+00   \n",
       "63             NOZ  Novokuznetsk               NaN  2017-01-17 06:14:00+00   \n",
       "64             NOZ  Novokuznetsk               NaN  2017-01-31 06:10:00+00   \n",
       "65             NOZ  Novokuznetsk               NaN  2017-01-03 06:13:00+00   \n",
       "66             NOZ  Novokuznetsk               NaN  2017-01-24 06:13:00+00   \n",
       "67             NOZ  Novokuznetsk               NaN  2017-02-14 06:12:00+00   \n",
       "\n",
       "            actual_arrival  \n",
       "59  2017-02-21 11:25:00+00  \n",
       "60  2017-02-28 11:23:00+00  \n",
       "61  2017-02-07 11:13:00+00  \n",
       "62  2017-01-10 11:26:00+00  \n",
       "63  2017-01-17 11:21:00+00  \n",
       "64  2017-01-31 11:14:00+00  \n",
       "65  2017-01-03 11:15:00+00  \n",
       "66  2017-01-24 11:18:00+00  \n",
       "67  2017-02-14 11:23:00+00  "
      ]
     },
     "execution_count": 6,
     "metadata": {},
     "output_type": "execute_result"
    }
   ],
   "source": [
    "data[data['arrival_city'] =='Novokuznetsk'] # делаем фильтр по городу"
   ]
  },
  {
   "cell_type": "code",
   "execution_count": 66,
   "metadata": {},
   "outputs": [
    {
     "name": "stderr",
     "output_type": "stream",
     "text": [
      "C:\\Users\\ivan.gurinovich\\Anaconda3\\lib\\site-packages\\seaborn\\distributions.py:288: UserWarning: Data must have variance to compute a kernel density estimate.\n",
      "  warnings.warn(msg, UserWarning)\n",
      "C:\\Users\\ivan.gurinovich\\Anaconda3\\lib\\site-packages\\seaborn\\distributions.py:288: UserWarning: Data must have variance to compute a kernel density estimate.\n",
      "  warnings.warn(msg, UserWarning)\n"
     ]
    },
    {
     "data": {
      "text/plain": [
       "<seaborn.axisgrid.PairGrid at 0x1a96def8b08>"
      ]
     },
     "execution_count": 66,
     "metadata": {},
     "output_type": "execute_result"
    },
    {
     "data": {
      "image/png": "[encoded data removed]",
      "text/plain": [
       "<Figure size 857.25x720 with 20 Axes>"
      ]
     },
     "metadata": {
      "needs_background": "light"
     },
     "output_type": "display_data"
    }
   ],
   "source": [
    "sns.pairplot(data[['airplane_model','flight_time','seat_qty','flight_revenue','qty_booked_seats','arrival_city']], hue = 'airplane_model')"
   ]
  },
  {
   "cell_type": "code",
   "execution_count": 7,
   "metadata": {},
   "outputs": [
    {
     "ename": "SyntaxError",
     "evalue": "invalid syntax (<ipython-input-7-0b1db1d6fb22>, line 1)",
     "output_type": "error",
     "traceback": [
      "\u001b[1;36m  File \u001b[1;32m\"<ipython-input-7-0b1db1d6fb22>\"\u001b[1;36m, line \u001b[1;32m1\u001b[0m\n\u001b[1;33m    Делаем вывод что нет информации только по Новокузнецку, т.к. нет ключевой информации, считаю что стоит удалить эти строки.\u001b[0m\n\u001b[1;37m               ^\u001b[0m\n\u001b[1;31mSyntaxError\u001b[0m\u001b[1;31m:\u001b[0m invalid syntax\n"
     ]
    }
   ],
   "source": [
    "Делаем вывод что нет информации только по Новокузнецку, т.к. нет ключевой информации, считаю что стоит удалить эти строки."
   ]
  },
  {
   "cell_type": "code",
   "execution_count": 67,
   "metadata": {},
   "outputs": [],
   "source": [
    "data.dropna(inplace=True) #удаляем строки с пропусками"
   ]
  },
  {
   "cell_type": "code",
   "execution_count": 68,
   "metadata": {},
   "outputs": [
    {
     "data": {
      "text/plain": [
       "array(['Boeing 737-300', 'Sukhoi Superjet-100'], dtype=object)"
      ]
     },
     "execution_count": 68,
     "metadata": {},
     "output_type": "execute_result"
    }
   ],
   "source": [
    "data.airplane_model.unique() # находим уникльные модели самолетов в массиве"
   ]
  },
  {
   "cell_type": "code",
   "execution_count": 10,
   "metadata": {},
   "outputs": [
    {
     "ename": "SyntaxError",
     "evalue": "invalid syntax (<ipython-input-10-a249b0063a96>, line 1)",
     "output_type": "error",
     "traceback": [
      "\u001b[1;36m  File \u001b[1;32m\"<ipython-input-10-a249b0063a96>\"\u001b[1;36m, line \u001b[1;32m1\u001b[0m\n\u001b[1;33m    'Boeing 737-300' 40 кг/мин,'Sukhoi Superjet-100' 28.33, средняя стоимость авиционного керосина = 41.435 за 1 кг\u001b[0m\n\u001b[1;37m                      ^\u001b[0m\n\u001b[1;31mSyntaxError\u001b[0m\u001b[1;31m:\u001b[0m invalid syntax\n"
     ]
    }
   ],
   "source": [
    "'Boeing 737-300' 40 кг/мин,'Sukhoi Superjet-100' 28.33, средняя стоимость авиционного керосина = 41.435 за 1 кг"
   ]
  },
  {
   "cell_type": "code",
   "execution_count": 69,
   "metadata": {},
   "outputs": [],
   "source": [
    "# напишем функцию которая расчитывает рассходы на перелет\n",
    "# умнажаем на мин. т.к. не всегда самолет литит самым кротчайшим путем\n",
    "def fill_exp(row):\n",
    "    if row['airplane_model'] == 'Boeing 737-300':\n",
    "        return row['flight_time']*40*41.435\n",
    "    if row['airplane_model'] == 'Sukhoi Superjet-100':\n",
    "        return row['flight_time']*28.33*41.435"
   ]
  },
  {
   "cell_type": "code",
   "execution_count": 70,
   "metadata": {},
   "outputs": [],
   "source": [
    "data['expenses'] = round(data.apply(fill_exp, axis = 1),1) # cоздаем новый признак \"expenses\""
   ]
  },
  {
   "cell_type": "code",
   "execution_count": 71,
   "metadata": {},
   "outputs": [],
   "source": [
    "data['profit']= (data.flight_revenue-data.expenses)/1000000 # создаем новый признак дохода"
   ]
  },
  {
   "cell_type": "code",
   "execution_count": 72,
   "metadata": {},
   "outputs": [],
   "source": [
    "data['plane_occupancy'] = round(data.qty_booked_seats/data.seat_qty*100,1) # создаем признак - процент заполняемости самалета"
   ]
  },
  {
   "cell_type": "code",
   "execution_count": 73,
   "metadata": {},
   "outputs": [
    {
     "data": {
      "text/plain": [
       "arrival_city  airplane_model     \n",
       "Belgorod      Sukhoi Superjet-100    38.446963\n",
       "Moscow        Boeing 737-300         87.149914\n",
       "Name: profit, dtype: float64"
      ]
     },
     "execution_count": 73,
     "metadata": {},
     "output_type": "execute_result"
    }
   ],
   "source": [
    "data.groupby(by = ['arrival_city','airplane_model'])['profit'].sum()# группируем по городам прибытия и моделям самалетов"
   ]
  },
  {
   "cell_type": "code",
   "execution_count": 16,
   "metadata": {},
   "outputs": [
    {
     "ename": "SyntaxError",
     "evalue": "invalid syntax (<ipython-input-16-cd0c72ea76bd>, line 1)",
     "output_type": "error",
     "traceback": [
      "\u001b[1;36m  File \u001b[1;32m\"<ipython-input-16-cd0c72ea76bd>\"\u001b[1;36m, line \u001b[1;32m1\u001b[0m\n\u001b[1;33m    Делаем вывод что летают два самалета: Sukhoi Superjet-100 в Белгород а Boeing 737-300 в Москву и прибыль полетов в Белгород\u001b[0m\n\u001b[1;37m               ^\u001b[0m\n\u001b[1;31mSyntaxError\u001b[0m\u001b[1;31m:\u001b[0m invalid syntax\n"
     ]
    }
   ],
   "source": [
    "Делаем вывод что летают два самалета: Sukhoi Superjet-100 в Белгород а Boeing 737-300 в Москву и прибыль полетов в Белгород\n",
    "    гораздо ниже"
   ]
  },
  {
   "cell_type": "code",
   "execution_count": 74,
   "metadata": {},
   "outputs": [
    {
     "ename": "SyntaxError",
     "evalue": "invalid syntax (<ipython-input-74-2122ebca5914>, line 1)",
     "output_type": "error",
     "traceback": [
      "\u001b[1;36m  File \u001b[1;32m\"<ipython-input-74-2122ebca5914>\"\u001b[1;36m, line \u001b[1;32m1\u001b[0m\n\u001b[1;33m    Переведем 'actual_departure', 'actual_arrival' в формат datetime\u001b[0m\n\u001b[1;37m                               ^\u001b[0m\n\u001b[1;31mSyntaxError\u001b[0m\u001b[1;31m:\u001b[0m invalid syntax\n"
     ]
    }
   ],
   "source": [
    "Переведем 'actual_departure', 'actual_arrival' в формат datetime"
   ]
  },
  {
   "cell_type": "code",
   "execution_count": 75,
   "metadata": {},
   "outputs": [],
   "source": [
    "from datetime import datetime, date, timedelta, time"
   ]
  },
  {
   "cell_type": "code",
   "execution_count": 76,
   "metadata": {},
   "outputs": [],
   "source": [
    "data[['actual_departure', 'actual_arrival']] = data[['actual_departure', 'actual_arrival']].apply(pd.to_datetime)"
   ]
  },
  {
   "cell_type": "code",
   "execution_count": 77,
   "metadata": {},
   "outputs": [],
   "source": [
    "data['departure_day'] = data['actual_departure'].dt.weekday# создадим признак по дням недели"
   ]
  },
  {
   "cell_type": "code",
   "execution_count": 78,
   "metadata": {},
   "outputs": [],
   "source": [
    "data['departure_month'] = data['actual_departure'].dt.month# создадим признак по месяцам"
   ]
  },
  {
   "cell_type": "code",
   "execution_count": 79,
   "metadata": {},
   "outputs": [],
   "source": [
    "#убираем лишние столбыцы\n",
    "data.drop(columns=['actual_departure','actual_arrival','expenses', 'flight_revenue'], axis=1, inplace=True)"
   ]
  },
  {
   "cell_type": "code",
   "execution_count": 80,
   "metadata": {},
   "outputs": [],
   "source": [
    "data_msc=data[data.arrival_city == 'Moscow'] # создаем дата фрейм только, где принимающий город - Москва"
   ]
  },
  {
   "cell_type": "code",
   "execution_count": 81,
   "metadata": {},
   "outputs": [],
   "source": [
    "data_bgd=data[data.arrival_city == 'Belgorod'] # создаем дата фрейм только, где принимающий город - Белгород"
   ]
  },
  {
   "cell_type": "code",
   "execution_count": 24,
   "metadata": {},
   "outputs": [
    {
     "ename": "SyntaxError",
     "evalue": "invalid syntax (<ipython-input-24-e50fcd7f3261>, line 1)",
     "output_type": "error",
     "traceback": [
      "\u001b[1;36m  File \u001b[1;32m\"<ipython-input-24-e50fcd7f3261>\"\u001b[1;36m, line \u001b[1;32m1\u001b[0m\n\u001b[1;33m    Анализируем полеты в Белгород\u001b[0m\n\u001b[1;37m                     ^\u001b[0m\n\u001b[1;31mSyntaxError\u001b[0m\u001b[1;31m:\u001b[0m invalid syntax\n"
     ]
    }
   ],
   "source": [
    "Анализируем полеты в Белгород"
   ]
  },
  {
   "cell_type": "code",
   "execution_count": 82,
   "metadata": {},
   "outputs": [
    {
     "data": {
      "text/html": [
       "<div>\n",
       "<style scoped>\n",
       "    .dataframe tbody tr th:only-of-type {\n",
       "        vertical-align: middle;\n",
       "    }\n",
       "\n",
       "    .dataframe tbody tr th {\n",
       "        vertical-align: top;\n",
       "    }\n",
       "\n",
       "    .dataframe thead tr th {\n",
       "        text-align: left;\n",
       "    }\n",
       "\n",
       "    .dataframe thead tr:last-of-type th {\n",
       "        text-align: right;\n",
       "    }\n",
       "</style>\n",
       "<table border=\"1\" class=\"dataframe\">\n",
       "  <thead>\n",
       "    <tr>\n",
       "      <th></th>\n",
       "      <th>min</th>\n",
       "      <th>mean</th>\n",
       "      <th>max</th>\n",
       "    </tr>\n",
       "    <tr>\n",
       "      <th></th>\n",
       "      <th>profit</th>\n",
       "      <th>profit</th>\n",
       "      <th>profit</th>\n",
       "    </tr>\n",
       "    <tr>\n",
       "      <th>departure_day</th>\n",
       "      <th></th>\n",
       "      <th></th>\n",
       "      <th></th>\n",
       "    </tr>\n",
       "  </thead>\n",
       "  <tbody>\n",
       "    <tr>\n",
       "      <th>0</th>\n",
       "      <td>0.473481</td>\n",
       "      <td>0.635641</td>\n",
       "      <td>0.706607</td>\n",
       "    </tr>\n",
       "    <tr>\n",
       "      <th>1</th>\n",
       "      <td>0.516407</td>\n",
       "      <td>0.639383</td>\n",
       "      <td>0.706607</td>\n",
       "    </tr>\n",
       "    <tr>\n",
       "      <th>2</th>\n",
       "      <td>0.643607</td>\n",
       "      <td>0.694501</td>\n",
       "      <td>0.706607</td>\n",
       "    </tr>\n",
       "    <tr>\n",
       "      <th>3</th>\n",
       "      <td>0.472307</td>\n",
       "      <td>0.640526</td>\n",
       "      <td>0.707781</td>\n",
       "    </tr>\n",
       "    <tr>\n",
       "      <th>4</th>\n",
       "      <td>0.537681</td>\n",
       "      <td>0.647763</td>\n",
       "      <td>0.707781</td>\n",
       "    </tr>\n",
       "    <tr>\n",
       "      <th>5</th>\n",
       "      <td>0.549107</td>\n",
       "      <td>0.658764</td>\n",
       "      <td>0.706607</td>\n",
       "    </tr>\n",
       "    <tr>\n",
       "      <th>6</th>\n",
       "      <td>0.560534</td>\n",
       "      <td>0.648813</td>\n",
       "      <td>0.705434</td>\n",
       "    </tr>\n",
       "  </tbody>\n",
       "</table>\n",
       "</div>"
      ],
      "text/plain": [
       "                    min      mean       max\n",
       "                 profit    profit    profit\n",
       "departure_day                              \n",
       "0              0.473481  0.635641  0.706607\n",
       "1              0.516407  0.639383  0.706607\n",
       "2              0.643607  0.694501  0.706607\n",
       "3              0.472307  0.640526  0.707781\n",
       "4              0.537681  0.647763  0.707781\n",
       "5              0.549107  0.658764  0.706607\n",
       "6              0.560534  0.648813  0.705434"
      ]
     },
     "execution_count": 82,
     "metadata": {},
     "output_type": "execute_result"
    }
   ],
   "source": [
    "data_bgd.pivot_table(values = 'profit', index = 'departure_day', aggfunc = [\"min\", 'mean', \"max\"])"
   ]
  },
  {
   "cell_type": "code",
   "execution_count": 26,
   "metadata": {},
   "outputs": [
    {
     "ename": "SyntaxError",
     "evalue": "invalid syntax (<ipython-input-26-3f63d86ee6ce>, line 1)",
     "output_type": "error",
     "traceback": [
      "\u001b[1;36m  File \u001b[1;32m\"<ipython-input-26-3f63d86ee6ce>\"\u001b[1;36m, line \u001b[1;32m1\u001b[0m\n\u001b[1;33m    Делаем вывод, что по дням недели доход сильно не отличается\u001b[0m\n\u001b[1;37m               ^\u001b[0m\n\u001b[1;31mSyntaxError\u001b[0m\u001b[1;31m:\u001b[0m invalid syntax\n"
     ]
    }
   ],
   "source": [
    "Делаем вывод, что по дням недели доход сильно не отличается"
   ]
  },
  {
   "cell_type": "code",
   "execution_count": 83,
   "metadata": {},
   "outputs": [
    {
     "data": {
      "text/plain": [
       "1    31\n",
       "2    28\n",
       "Name: departure_month, dtype: int64"
      ]
     },
     "execution_count": 83,
     "metadata": {},
     "output_type": "execute_result"
    }
   ],
   "source": [
    "data_bgd.departure_month.value_counts()# кол-во налюдений по месяцам"
   ]
  },
  {
   "cell_type": "code",
   "execution_count": 28,
   "metadata": {},
   "outputs": [
    {
     "ename": "SyntaxError",
     "evalue": "invalid syntax (<ipython-input-28-1ee836b3a219>, line 1)",
     "output_type": "error",
     "traceback": [
      "\u001b[1;36m  File \u001b[1;32m\"<ipython-input-28-1ee836b3a219>\"\u001b[1;36m, line \u001b[1;32m1\u001b[0m\n\u001b[1;33m    Кол-во полетов в каждом месяце примерно одинаковое\u001b[0m\n\u001b[1;37m                 ^\u001b[0m\n\u001b[1;31mSyntaxError\u001b[0m\u001b[1;31m:\u001b[0m invalid syntax\n"
     ]
    }
   ],
   "source": [
    "Кол-во полетов в каждом месяце примерно одинаковое"
   ]
  },
  {
   "cell_type": "code",
   "execution_count": 85,
   "metadata": {},
   "outputs": [
    {
     "data": {
      "text/plain": [
       "Text(0.5, 0, 'Доход')"
      ]
     },
     "execution_count": 85,
     "metadata": {},
     "output_type": "execute_result"
    },
    {
     "data": {
      "image/png": "[encoded data removed]",
      "text/plain": [
       "<Figure size 432x288 with 1 Axes>"
      ]
     },
     "metadata": {
      "needs_background": "light"
     },
     "output_type": "display_data"
    }
   ],
   "source": [
    "# Рисуем диаграмму, отображающую распределение полетво по доходу\n",
    "fig = plt.figure()\n",
    "axes = fig.add_axes([0, 0, 1, 1])\n",
    "axes.hist(data_bgd['profit'], bins = 50)\n",
    "# Добавляем подписи\n",
    "axes.set_xlabel('Доход')"
   ]
  },
  {
   "cell_type": "code",
   "execution_count": 30,
   "metadata": {},
   "outputs": [
    {
     "ename": "SyntaxError",
     "evalue": "invalid syntax (<ipython-input-30-d98d1da8214f>, line 1)",
     "output_type": "error",
     "traceback": [
      "\u001b[1;36m  File \u001b[1;32m\"<ipython-input-30-d98d1da8214f>\"\u001b[1;36m, line \u001b[1;32m1\u001b[0m\n\u001b[1;33m    Из диаграммы видно что большое кол-во полетов с доходность около 700 000 руб.\u001b[0m\n\u001b[1;37m               ^\u001b[0m\n\u001b[1;31mSyntaxError\u001b[0m\u001b[1;31m:\u001b[0m invalid syntax\n"
     ]
    }
   ],
   "source": [
    "Из диаграммы видно что большое кол-во полетов с доходность около 700 000 руб."
   ]
  },
  {
   "cell_type": "code",
   "execution_count": 86,
   "metadata": {},
   "outputs": [
    {
     "data": {
      "text/plain": [
       "<matplotlib.axes._subplots.AxesSubplot at 0x1a970534d08>"
      ]
     },
     "execution_count": 86,
     "metadata": {},
     "output_type": "execute_result"
    },
    {
     "data": {
      "image/png": "[encoded data removed]",
      "text/plain": [
       "<Figure size 432x288 with 1 Axes>"
      ]
     },
     "metadata": {
      "needs_background": "light"
     },
     "output_type": "display_data"
    }
   ],
   "source": [
    "data_bgd.plot(x = 'profit', \n",
    "        y = 'plane_occupancy',\n",
    "        kind = 'scatter', \n",
    "        grid = True, \n",
    "        title = 'Profit VS Plane Occupancy')"
   ]
  },
  {
   "cell_type": "code",
   "execution_count": 87,
   "metadata": {},
   "outputs": [
    {
     "data": {
      "text/plain": [
       "<seaborn.axisgrid.JointGrid at 0x1a9705b69c8>"
      ]
     },
     "execution_count": 87,
     "metadata": {},
     "output_type": "execute_result"
    },
    {
     "data": {
      "image/png": "[encoded data removed]",
      "text/plain": [
       "<Figure size 432x432 with 3 Axes>"
      ]
     },
     "metadata": {
      "needs_background": "light"
     },
     "output_type": "display_data"
    }
   ],
   "source": [
    "sns.jointplot(x = 'profit', \n",
    "        y = 'plane_occupancy',\n",
    "              data=data_bgd,\n",
    "             kind = 'reg',\n",
    "             ratio=2,\n",
    "             space = 0,\n",
    "             color='royalblue')"
   ]
  },
  {
   "cell_type": "code",
   "execution_count": null,
   "metadata": {},
   "outputs": [],
   "source": [
    "Из графика выше видно, что есть два полета с плохой заполяемость и низким доходам в сравлнении с остальными.\n",
    "Их рекомендуется убрать"
   ]
  },
  {
   "cell_type": "code",
   "execution_count": 58,
   "metadata": {},
   "outputs": [
    {
     "data": {
      "text/html": [
       "<div>\n",
       "<style scoped>\n",
       "    .dataframe tbody tr th:only-of-type {\n",
       "        vertical-align: middle;\n",
       "    }\n",
       "\n",
       "    .dataframe tbody tr th {\n",
       "        vertical-align: top;\n",
       "    }\n",
       "\n",
       "    .dataframe thead th {\n",
       "        text-align: right;\n",
       "    }\n",
       "</style>\n",
       "<table border=\"1\" class=\"dataframe\">\n",
       "  <thead>\n",
       "    <tr style=\"text-align: right;\">\n",
       "      <th></th>\n",
       "      <th>flight_id</th>\n",
       "      <th>airplane_model</th>\n",
       "      <th>flight_time</th>\n",
       "      <th>seat_qty</th>\n",
       "      <th>arrival_airport</th>\n",
       "      <th>arrival_city</th>\n",
       "      <th>qty_booked_seats</th>\n",
       "      <th>profit</th>\n",
       "      <th>plane_occupancy</th>\n",
       "      <th>departure_day</th>\n",
       "      <th>departure_month</th>\n",
       "    </tr>\n",
       "  </thead>\n",
       "  <tbody>\n",
       "    <tr>\n",
       "      <th>77</th>\n",
       "      <td>136642</td>\n",
       "      <td>Sukhoi Superjet-100</td>\n",
       "      <td>49</td>\n",
       "      <td>97</td>\n",
       "      <td>EGO</td>\n",
       "      <td>Belgorod</td>\n",
       "      <td>64.0</td>\n",
       "      <td>0.473481</td>\n",
       "      <td>66.0</td>\n",
       "      <td>0</td>\n",
       "      <td>1</td>\n",
       "    </tr>\n",
       "    <tr>\n",
       "      <th>102</th>\n",
       "      <td>136807</td>\n",
       "      <td>Sukhoi Superjet-100</td>\n",
       "      <td>50</td>\n",
       "      <td>97</td>\n",
       "      <td>EGO</td>\n",
       "      <td>Belgorod</td>\n",
       "      <td>68.0</td>\n",
       "      <td>0.472307</td>\n",
       "      <td>70.1</td>\n",
       "      <td>3</td>\n",
       "      <td>2</td>\n",
       "    </tr>\n",
       "  </tbody>\n",
       "</table>\n",
       "</div>"
      ],
      "text/plain": [
       "     flight_id       airplane_model  flight_time  seat_qty arrival_airport  \\\n",
       "77      136642  Sukhoi Superjet-100           49        97             EGO   \n",
       "102     136807  Sukhoi Superjet-100           50        97             EGO   \n",
       "\n",
       "    arrival_city  qty_booked_seats    profit  plane_occupancy  departure_day  \\\n",
       "77      Belgorod              64.0  0.473481             66.0              0   \n",
       "102     Belgorod              68.0  0.472307             70.1              3   \n",
       "\n",
       "     departure_month  \n",
       "77                 1  \n",
       "102                2  "
      ]
     },
     "execution_count": 58,
     "metadata": {},
     "output_type": "execute_result"
    }
   ],
   "source": [
    "# находим два полета, которые рекомендовано убрать из расписания\n",
    "data_bgd[data_bgd.plane_occupancy < 75 ]"
   ]
  },
  {
   "cell_type": "code",
   "execution_count": 32,
   "metadata": {},
   "outputs": [
    {
     "ename": "SyntaxError",
     "evalue": "invalid syntax (<ipython-input-32-6c9c45454e8c>, line 1)",
     "output_type": "error",
     "traceback": [
      "\u001b[1;36m  File \u001b[1;32m\"<ipython-input-32-6c9c45454e8c>\"\u001b[1;36m, line \u001b[1;32m1\u001b[0m\n\u001b[1;33m    Анализируем полеты в Москву\u001b[0m\n\u001b[1;37m                     ^\u001b[0m\n\u001b[1;31mSyntaxError\u001b[0m\u001b[1;31m:\u001b[0m invalid syntax\n"
     ]
    }
   ],
   "source": [
    "Анализируем полеты в Москву"
   ]
  },
  {
   "cell_type": "code",
   "execution_count": 33,
   "metadata": {},
   "outputs": [
    {
     "data": {
      "text/html": [
       "<div>\n",
       "<style scoped>\n",
       "    .dataframe tbody tr th:only-of-type {\n",
       "        vertical-align: middle;\n",
       "    }\n",
       "\n",
       "    .dataframe tbody tr th {\n",
       "        vertical-align: top;\n",
       "    }\n",
       "\n",
       "    .dataframe thead tr th {\n",
       "        text-align: left;\n",
       "    }\n",
       "\n",
       "    .dataframe thead tr:last-of-type th {\n",
       "        text-align: right;\n",
       "    }\n",
       "</style>\n",
       "<table border=\"1\" class=\"dataframe\">\n",
       "  <thead>\n",
       "    <tr>\n",
       "      <th></th>\n",
       "      <th>min</th>\n",
       "      <th>mean</th>\n",
       "      <th>max</th>\n",
       "    </tr>\n",
       "    <tr>\n",
       "      <th></th>\n",
       "      <th>profit</th>\n",
       "      <th>profit</th>\n",
       "      <th>profit</th>\n",
       "    </tr>\n",
       "    <tr>\n",
       "      <th>departure_day</th>\n",
       "      <th></th>\n",
       "      <th></th>\n",
       "      <th></th>\n",
       "    </tr>\n",
       "  </thead>\n",
       "  <tbody>\n",
       "    <tr>\n",
       "      <th>0</th>\n",
       "      <td>1.232260</td>\n",
       "      <td>1.459511</td>\n",
       "      <td>1.720260</td>\n",
       "    </tr>\n",
       "    <tr>\n",
       "      <th>1</th>\n",
       "      <td>1.351860</td>\n",
       "      <td>1.540495</td>\n",
       "      <td>1.683660</td>\n",
       "    </tr>\n",
       "    <tr>\n",
       "      <th>2</th>\n",
       "      <td>1.240403</td>\n",
       "      <td>1.454635</td>\n",
       "      <td>1.708060</td>\n",
       "    </tr>\n",
       "    <tr>\n",
       "      <th>3</th>\n",
       "      <td>1.292060</td>\n",
       "      <td>1.485321</td>\n",
       "      <td>1.720260</td>\n",
       "    </tr>\n",
       "    <tr>\n",
       "      <th>4</th>\n",
       "      <td>1.354260</td>\n",
       "      <td>1.529714</td>\n",
       "      <td>1.671460</td>\n",
       "    </tr>\n",
       "    <tr>\n",
       "      <th>5</th>\n",
       "      <td>1.349288</td>\n",
       "      <td>1.501585</td>\n",
       "      <td>1.648717</td>\n",
       "    </tr>\n",
       "    <tr>\n",
       "      <th>6</th>\n",
       "      <td>1.265260</td>\n",
       "      <td>1.375536</td>\n",
       "      <td>1.488460</td>\n",
       "    </tr>\n",
       "  </tbody>\n",
       "</table>\n",
       "</div>"
      ],
      "text/plain": [
       "                    min      mean       max\n",
       "                 profit    profit    profit\n",
       "departure_day                              \n",
       "0              1.232260  1.459511  1.720260\n",
       "1              1.351860  1.540495  1.683660\n",
       "2              1.240403  1.454635  1.708060\n",
       "3              1.292060  1.485321  1.720260\n",
       "4              1.354260  1.529714  1.671460\n",
       "5              1.349288  1.501585  1.648717\n",
       "6              1.265260  1.375536  1.488460"
      ]
     },
     "execution_count": 33,
     "metadata": {},
     "output_type": "execute_result"
    }
   ],
   "source": [
    "data_msc.pivot_table(values = 'profit', index = 'departure_day', aggfunc = [\"min\", 'mean', \"max\"])"
   ]
  },
  {
   "cell_type": "code",
   "execution_count": 34,
   "metadata": {},
   "outputs": [
    {
     "ename": "SyntaxError",
     "evalue": "invalid syntax (<ipython-input-34-71a3d71e30c6>, line 1)",
     "output_type": "error",
     "traceback": [
      "\u001b[1;36m  File \u001b[1;32m\"<ipython-input-34-71a3d71e30c6>\"\u001b[1;36m, line \u001b[1;32m1\u001b[0m\n\u001b[1;33m    Делаем вывод, что по в воскресенье самый не прибыльный день\u001b[0m\n\u001b[1;37m               ^\u001b[0m\n\u001b[1;31mSyntaxError\u001b[0m\u001b[1;31m:\u001b[0m invalid syntax\n"
     ]
    }
   ],
   "source": [
    "Делаем вывод, что по в воскресенье самый не прибыльный день"
   ]
  },
  {
   "cell_type": "code",
   "execution_count": 35,
   "metadata": {},
   "outputs": [
    {
     "data": {
      "text/plain": [
       "1    31\n",
       "2    28\n",
       "Name: departure_month, dtype: int64"
      ]
     },
     "execution_count": 35,
     "metadata": {},
     "output_type": "execute_result"
    }
   ],
   "source": [
    "data_msc.departure_month.value_counts()# кол-во налюдений по месяцам"
   ]
  },
  {
   "cell_type": "code",
   "execution_count": 36,
   "metadata": {},
   "outputs": [
    {
     "data": {
      "text/plain": [
       "Text(0.5, 0, 'Доход')"
      ]
     },
     "execution_count": 36,
     "metadata": {},
     "output_type": "execute_result"
    },
    {
     "data": {
      "image/png": "[encoded data removed]",
      "text/plain": [
       "<Figure size 432x288 with 1 Axes>"
      ]
     },
     "metadata": {
      "needs_background": "light"
     },
     "output_type": "display_data"
    }
   ],
   "source": [
    "# Рисуем диаграмму, отображающую распределение полетво по доходу\n",
    "fig = plt.figure()\n",
    "axes = fig.add_axes([0, 0, 1, 1])\n",
    "axes.hist(data_msc['profit'], bins = 50)\n",
    "# Добавляем подписи\n",
    "axes.set_xlabel('Доход')"
   ]
  },
  {
   "cell_type": "code",
   "execution_count": 37,
   "metadata": {},
   "outputs": [
    {
     "data": {
      "text/plain": [
       "<matplotlib.axes._subplots.AxesSubplot at 0x1a96a6543c8>"
      ]
     },
     "execution_count": 37,
     "metadata": {},
     "output_type": "execute_result"
    },
    {
     "data": {
      "image/png": "[encoded data removed]",
      "text/plain": [
       "<Figure size 432x288 with 1 Axes>"
      ]
     },
     "metadata": {
      "needs_background": "light"
     },
     "output_type": "display_data"
    }
   ],
   "source": [
    "data_msc.plot(x = 'profit', \n",
    "        y = 'plane_occupancy', \n",
    "        kind = 'scatter', \n",
    "        grid = True, \n",
    "        title = 'Profit VS Plane Occupancy')"
   ]
  },
  {
   "cell_type": "code",
   "execution_count": 51,
   "metadata": {},
   "outputs": [
    {
     "data": {
      "text/plain": [
       "<seaborn.axisgrid.JointGrid at 0x1a96c7715c8>"
      ]
     },
     "execution_count": 51,
     "metadata": {},
     "output_type": "execute_result"
    },
    {
     "data": {
      "image/png": "[encoded data removed]",
      "text/plain": [
       "<Figure size 432x432 with 3 Axes>"
      ]
     },
     "metadata": {
      "needs_background": "light"
     },
     "output_type": "display_data"
    }
   ],
   "source": [
    "sns.jointplot(x = 'profit', \n",
    "        y = 'plane_occupancy',\n",
    "              data=data_msc,\n",
    "             kind = 'reg',\n",
    "             ratio=2,\n",
    "             space = 0,\n",
    "             color='blue')"
   ]
  },
  {
   "cell_type": "code",
   "execution_count": 38,
   "metadata": {},
   "outputs": [
    {
     "ename": "SyntaxError",
     "evalue": "invalid syntax (<ipython-input-38-28d505bc2c41>, line 1)",
     "output_type": "error",
     "traceback": [
      "\u001b[1;36m  File \u001b[1;32m\"<ipython-input-38-28d505bc2c41>\"\u001b[1;36m, line \u001b[1;32m1\u001b[0m\n\u001b[1;33m    Из диагрммы выше видно, что есть 5 полетов, которые имеют отностильно низкую заполняемость и доход меньшь 1.3 млн руб,\u001b[0m\n\u001b[1;37m              ^\u001b[0m\n\u001b[1;31mSyntaxError\u001b[0m\u001b[1;31m:\u001b[0m invalid syntax\n"
     ]
    }
   ],
   "source": [
    "Из диагрммы выше видно, что есть 5 полетов, которые имеют отностильно низкую заполняемость и доход меньшь 1.3 млн руб,\n",
    "также есть один рейс у которого заполняемость больше 80 %, однако доход меншь 1.3 млн. руб."
   ]
  },
  {
   "cell_type": "code",
   "execution_count": 39,
   "metadata": {},
   "outputs": [
    {
     "data": {
      "text/html": [
       "<div>\n",
       "<style scoped>\n",
       "    .dataframe tbody tr th:only-of-type {\n",
       "        vertical-align: middle;\n",
       "    }\n",
       "\n",
       "    .dataframe tbody tr th {\n",
       "        vertical-align: top;\n",
       "    }\n",
       "\n",
       "    .dataframe thead th {\n",
       "        text-align: right;\n",
       "    }\n",
       "</style>\n",
       "<table border=\"1\" class=\"dataframe\">\n",
       "  <thead>\n",
       "    <tr style=\"text-align: right;\">\n",
       "      <th></th>\n",
       "      <th>flight_id</th>\n",
       "      <th>airplane_model</th>\n",
       "      <th>flight_time</th>\n",
       "      <th>seat_qty</th>\n",
       "      <th>arrival_airport</th>\n",
       "      <th>arrival_city</th>\n",
       "      <th>qty_booked_seats</th>\n",
       "      <th>profit</th>\n",
       "      <th>plane_occupancy</th>\n",
       "      <th>departure_day</th>\n",
       "      <th>departure_month</th>\n",
       "    </tr>\n",
       "  </thead>\n",
       "  <tbody>\n",
       "    <tr>\n",
       "      <th>2</th>\n",
       "      <td>136122</td>\n",
       "      <td>Boeing 737-300</td>\n",
       "      <td>100</td>\n",
       "      <td>130</td>\n",
       "      <td>SVO</td>\n",
       "      <td>Moscow</td>\n",
       "      <td>97.0</td>\n",
       "      <td>1.265260</td>\n",
       "      <td>74.6</td>\n",
       "      <td>6</td>\n",
       "      <td>1</td>\n",
       "    </tr>\n",
       "    <tr>\n",
       "      <th>12</th>\n",
       "      <td>136178</td>\n",
       "      <td>Boeing 737-300</td>\n",
       "      <td>99</td>\n",
       "      <td>130</td>\n",
       "      <td>SVO</td>\n",
       "      <td>Moscow</td>\n",
       "      <td>99.0</td>\n",
       "      <td>1.270517</td>\n",
       "      <td>76.2</td>\n",
       "      <td>6</td>\n",
       "      <td>1</td>\n",
       "    </tr>\n",
       "    <tr>\n",
       "      <th>21</th>\n",
       "      <td>136250</td>\n",
       "      <td>Boeing 737-300</td>\n",
       "      <td>101</td>\n",
       "      <td>130</td>\n",
       "      <td>SVO</td>\n",
       "      <td>Moscow</td>\n",
       "      <td>99.0</td>\n",
       "      <td>1.240403</td>\n",
       "      <td>76.2</td>\n",
       "      <td>2</td>\n",
       "      <td>2</td>\n",
       "    </tr>\n",
       "    <tr>\n",
       "      <th>38</th>\n",
       "      <td>136360</td>\n",
       "      <td>Boeing 737-300</td>\n",
       "      <td>100</td>\n",
       "      <td>130</td>\n",
       "      <td>SVO</td>\n",
       "      <td>Moscow</td>\n",
       "      <td>97.0</td>\n",
       "      <td>1.289660</td>\n",
       "      <td>74.6</td>\n",
       "      <td>6</td>\n",
       "      <td>2</td>\n",
       "    </tr>\n",
       "    <tr>\n",
       "      <th>54</th>\n",
       "      <td>136464</td>\n",
       "      <td>Boeing 737-300</td>\n",
       "      <td>100</td>\n",
       "      <td>130</td>\n",
       "      <td>SVO</td>\n",
       "      <td>Moscow</td>\n",
       "      <td>100.0</td>\n",
       "      <td>1.232260</td>\n",
       "      <td>76.9</td>\n",
       "      <td>0</td>\n",
       "      <td>1</td>\n",
       "    </tr>\n",
       "  </tbody>\n",
       "</table>\n",
       "</div>"
      ],
      "text/plain": [
       "    flight_id  airplane_model  flight_time  seat_qty arrival_airport  \\\n",
       "2      136122  Boeing 737-300          100       130             SVO   \n",
       "12     136178  Boeing 737-300           99       130             SVO   \n",
       "21     136250  Boeing 737-300          101       130             SVO   \n",
       "38     136360  Boeing 737-300          100       130             SVO   \n",
       "54     136464  Boeing 737-300          100       130             SVO   \n",
       "\n",
       "   arrival_city  qty_booked_seats    profit  plane_occupancy  departure_day  \\\n",
       "2        Moscow              97.0  1.265260             74.6              6   \n",
       "12       Moscow              99.0  1.270517             76.2              6   \n",
       "21       Moscow              99.0  1.240403             76.2              2   \n",
       "38       Moscow              97.0  1.289660             74.6              6   \n",
       "54       Moscow             100.0  1.232260             76.9              0   \n",
       "\n",
       "    departure_month  \n",
       "2                 1  \n",
       "12                1  \n",
       "21                2  \n",
       "38                2  \n",
       "54                1  "
      ]
     },
     "execution_count": 39,
     "metadata": {},
     "output_type": "execute_result"
    }
   ],
   "source": [
    "data_msc[(data_msc.profit < 1.3) & (data_msc.plane_occupancy < 80)]# находим полеты которые рекомендуется убрать из расписания"
   ]
  },
  {
   "cell_type": "code",
   "execution_count": 88,
   "metadata": {},
   "outputs": [
    {
     "data": {
      "text/html": [
       "<div>\n",
       "<style scoped>\n",
       "    .dataframe tbody tr th:only-of-type {\n",
       "        vertical-align: middle;\n",
       "    }\n",
       "\n",
       "    .dataframe tbody tr th {\n",
       "        vertical-align: top;\n",
       "    }\n",
       "\n",
       "    .dataframe thead th {\n",
       "        text-align: right;\n",
       "    }\n",
       "</style>\n",
       "<table border=\"1\" class=\"dataframe\">\n",
       "  <thead>\n",
       "    <tr style=\"text-align: right;\">\n",
       "      <th></th>\n",
       "      <th>flight_id</th>\n",
       "      <th>airplane_model</th>\n",
       "      <th>flight_time</th>\n",
       "      <th>seat_qty</th>\n",
       "      <th>arrival_airport</th>\n",
       "      <th>arrival_city</th>\n",
       "      <th>qty_booked_seats</th>\n",
       "      <th>profit</th>\n",
       "      <th>plane_occupancy</th>\n",
       "      <th>departure_day</th>\n",
       "      <th>departure_month</th>\n",
       "    </tr>\n",
       "  </thead>\n",
       "  <tbody>\n",
       "    <tr>\n",
       "      <th>16</th>\n",
       "      <td>136204</td>\n",
       "      <td>Boeing 737-300</td>\n",
       "      <td>100</td>\n",
       "      <td>130</td>\n",
       "      <td>SVO</td>\n",
       "      <td>Moscow</td>\n",
       "      <td>107.0</td>\n",
       "      <td>1.29206</td>\n",
       "      <td>82.3</td>\n",
       "      <td>3</td>\n",
       "      <td>2</td>\n",
       "    </tr>\n",
       "  </tbody>\n",
       "</table>\n",
       "</div>"
      ],
      "text/plain": [
       "    flight_id  airplane_model  flight_time  seat_qty arrival_airport  \\\n",
       "16     136204  Boeing 737-300          100       130             SVO   \n",
       "\n",
       "   arrival_city  qty_booked_seats   profit  plane_occupancy  departure_day  \\\n",
       "16       Moscow             107.0  1.29206             82.3              3   \n",
       "\n",
       "    departure_month  \n",
       "16                2  "
      ]
     },
     "execution_count": 88,
     "metadata": {},
     "output_type": "execute_result"
    }
   ],
   "source": [
    "# у которого заполняемость больше 80 %, однако доход меншь 1.3 млн. руб.\n",
    "data_msc[(data_msc.profit < 1.3) & (data_msc.plane_occupancy > 80)] "
   ]
  },
  {
   "cell_type": "code",
   "execution_count": null,
   "metadata": {},
   "outputs": [],
   "source": []
  }
 ],
 "metadata": {
  "kernelspec": {
   "display_name": "Python 3",
   "language": "python",
   "name": "python3"
  },
  "language_info": {
   "codemirror_mode": {
    "name": "ipython",
    "version": 3
   },
   "file_extension": ".py",
   "mimetype": "text/x-python",
   "name": "python",
   "nbconvert_exporter": "python",
   "pygments_lexer": "ipython3",
   "version": "3.7.6"
  }
 },
 "nbformat": 4,
 "nbformat_minor": 2
}
