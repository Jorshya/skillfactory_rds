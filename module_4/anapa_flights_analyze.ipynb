{
 "cells": [
  {
   "cell_type": "code",
   "execution_count": 101,
   "metadata": {},
   "outputs": [],
   "source": [
    "import numpy as np\n",
    "import pandas as pd\n",
    "import matplotlib.pyplot as plt\n",
    "import seaborn as sns \n",
    "%matplotlib inline\n",
    "data = pd.read_csv(\"anapa_flights.csv\") \n"
   ]
  },
  {
   "cell_type": "code",
   "execution_count": 102,
   "metadata": {},
   "outputs": [
    {
     "data": {
      "text/html": [
       "<div>\n",
       "<style scoped>\n",
       "    .dataframe tbody tr th:only-of-type {\n",
       "        vertical-align: middle;\n",
       "    }\n",
       "\n",
       "    .dataframe tbody tr th {\n",
       "        vertical-align: top;\n",
       "    }\n",
       "\n",
       "    .dataframe thead th {\n",
       "        text-align: right;\n",
       "    }\n",
       "</style>\n",
       "<table border=\"1\" class=\"dataframe\">\n",
       "  <thead>\n",
       "    <tr style=\"text-align: right;\">\n",
       "      <th></th>\n",
       "      <th>flight_id</th>\n",
       "      <th>airplane_model</th>\n",
       "      <th>flight_time</th>\n",
       "      <th>flight_revenue</th>\n",
       "      <th>seat_qty</th>\n",
       "      <th>arrival_airport</th>\n",
       "      <th>arrival_city</th>\n",
       "      <th>qty_booked_seats</th>\n",
       "      <th>actual_departure</th>\n",
       "      <th>actual_arrival</th>\n",
       "    </tr>\n",
       "  </thead>\n",
       "  <tbody>\n",
       "    <tr>\n",
       "      <th>1</th>\n",
       "      <td>136120</td>\n",
       "      <td>Boeing 737-300</td>\n",
       "      <td>99</td>\n",
       "      <td>1605400.0</td>\n",
       "      <td>130</td>\n",
       "      <td>SVO</td>\n",
       "      <td>Moscow</td>\n",
       "      <td>109.0</td>\n",
       "      <td>2017-02-24 10:07:00+00</td>\n",
       "      <td>2017-02-24 11:46:00+00</td>\n",
       "    </tr>\n",
       "    <tr>\n",
       "      <th>9</th>\n",
       "      <td>136164</td>\n",
       "      <td>Boeing 737-300</td>\n",
       "      <td>99</td>\n",
       "      <td>1738400.0</td>\n",
       "      <td>130</td>\n",
       "      <td>SVO</td>\n",
       "      <td>Moscow</td>\n",
       "      <td>120.0</td>\n",
       "      <td>2017-01-07 10:07:00+00</td>\n",
       "      <td>2017-01-07 11:46:00+00</td>\n",
       "    </tr>\n",
       "    <tr>\n",
       "      <th>62</th>\n",
       "      <td>136523</td>\n",
       "      <td>Boeing 737-300</td>\n",
       "      <td>312</td>\n",
       "      <td>NaN</td>\n",
       "      <td>130</td>\n",
       "      <td>NOZ</td>\n",
       "      <td>Novokuznetsk</td>\n",
       "      <td>NaN</td>\n",
       "      <td>2017-01-10 06:14:00+00</td>\n",
       "      <td>2017-01-10 11:26:00+00</td>\n",
       "    </tr>\n",
       "    <tr>\n",
       "      <th>74</th>\n",
       "      <td>136620</td>\n",
       "      <td>Sukhoi Superjet-100</td>\n",
       "      <td>49</td>\n",
       "      <td>613500.0</td>\n",
       "      <td>97</td>\n",
       "      <td>EGO</td>\n",
       "      <td>Belgorod</td>\n",
       "      <td>79.0</td>\n",
       "      <td>2017-02-17 09:30:00+00</td>\n",
       "      <td>2017-02-17 10:19:00+00</td>\n",
       "    </tr>\n",
       "    <tr>\n",
       "      <th>81</th>\n",
       "      <td>136660</td>\n",
       "      <td>Sukhoi Superjet-100</td>\n",
       "      <td>49</td>\n",
       "      <td>677100.0</td>\n",
       "      <td>97</td>\n",
       "      <td>EGO</td>\n",
       "      <td>Belgorod</td>\n",
       "      <td>87.0</td>\n",
       "      <td>2017-02-20 09:26:00+00</td>\n",
       "      <td>2017-02-20 10:15:00+00</td>\n",
       "    </tr>\n",
       "    <tr>\n",
       "      <th>25</th>\n",
       "      <td>136269</td>\n",
       "      <td>Boeing 737-300</td>\n",
       "      <td>100</td>\n",
       "      <td>1605400.0</td>\n",
       "      <td>130</td>\n",
       "      <td>SVO</td>\n",
       "      <td>Moscow</td>\n",
       "      <td>109.0</td>\n",
       "      <td>2017-02-11 10:13:00+00</td>\n",
       "      <td>2017-02-11 11:53:00+00</td>\n",
       "    </tr>\n",
       "    <tr>\n",
       "      <th>41</th>\n",
       "      <td>136387</td>\n",
       "      <td>Boeing 737-300</td>\n",
       "      <td>99</td>\n",
       "      <td>1775000.0</td>\n",
       "      <td>130</td>\n",
       "      <td>SVO</td>\n",
       "      <td>Moscow</td>\n",
       "      <td>121.0</td>\n",
       "      <td>2017-01-19 10:08:00+00</td>\n",
       "      <td>2017-01-19 11:47:00+00</td>\n",
       "    </tr>\n",
       "    <tr>\n",
       "      <th>44</th>\n",
       "      <td>136411</td>\n",
       "      <td>Boeing 737-300</td>\n",
       "      <td>100</td>\n",
       "      <td>1590800.0</td>\n",
       "      <td>130</td>\n",
       "      <td>SVO</td>\n",
       "      <td>Moscow</td>\n",
       "      <td>110.0</td>\n",
       "      <td>2017-02-04 10:06:00+00</td>\n",
       "      <td>2017-02-04 11:46:00+00</td>\n",
       "    </tr>\n",
       "    <tr>\n",
       "      <th>112</th>\n",
       "      <td>136861</td>\n",
       "      <td>Sukhoi Superjet-100</td>\n",
       "      <td>49</td>\n",
       "      <td>689100.0</td>\n",
       "      <td>97</td>\n",
       "      <td>EGO</td>\n",
       "      <td>Belgorod</td>\n",
       "      <td>87.0</td>\n",
       "      <td>2017-02-12 09:28:00+00</td>\n",
       "      <td>2017-02-12 10:17:00+00</td>\n",
       "    </tr>\n",
       "    <tr>\n",
       "      <th>3</th>\n",
       "      <td>136130</td>\n",
       "      <td>Boeing 737-300</td>\n",
       "      <td>99</td>\n",
       "      <td>1556600.0</td>\n",
       "      <td>130</td>\n",
       "      <td>SVO</td>\n",
       "      <td>Moscow</td>\n",
       "      <td>107.0</td>\n",
       "      <td>2017-02-13 10:07:00+00</td>\n",
       "      <td>2017-02-13 11:46:00+00</td>\n",
       "    </tr>\n",
       "  </tbody>\n",
       "</table>\n",
       "</div>"
      ],
      "text/plain": [
       "     flight_id       airplane_model  flight_time  flight_revenue  seat_qty  \\\n",
       "1       136120       Boeing 737-300           99       1605400.0       130   \n",
       "9       136164       Boeing 737-300           99       1738400.0       130   \n",
       "62      136523       Boeing 737-300          312             NaN       130   \n",
       "74      136620  Sukhoi Superjet-100           49        613500.0        97   \n",
       "81      136660  Sukhoi Superjet-100           49        677100.0        97   \n",
       "25      136269       Boeing 737-300          100       1605400.0       130   \n",
       "41      136387       Boeing 737-300           99       1775000.0       130   \n",
       "44      136411       Boeing 737-300          100       1590800.0       130   \n",
       "112     136861  Sukhoi Superjet-100           49        689100.0        97   \n",
       "3       136130       Boeing 737-300           99       1556600.0       130   \n",
       "\n",
       "    arrival_airport  arrival_city  qty_booked_seats        actual_departure  \\\n",
       "1               SVO        Moscow             109.0  2017-02-24 10:07:00+00   \n",
       "9               SVO        Moscow             120.0  2017-01-07 10:07:00+00   \n",
       "62              NOZ  Novokuznetsk               NaN  2017-01-10 06:14:00+00   \n",
       "74              EGO      Belgorod              79.0  2017-02-17 09:30:00+00   \n",
       "81              EGO      Belgorod              87.0  2017-02-20 09:26:00+00   \n",
       "25              SVO        Moscow             109.0  2017-02-11 10:13:00+00   \n",
       "41              SVO        Moscow             121.0  2017-01-19 10:08:00+00   \n",
       "44              SVO        Moscow             110.0  2017-02-04 10:06:00+00   \n",
       "112             EGO      Belgorod              87.0  2017-02-12 09:28:00+00   \n",
       "3               SVO        Moscow             107.0  2017-02-13 10:07:00+00   \n",
       "\n",
       "             actual_arrival  \n",
       "1    2017-02-24 11:46:00+00  \n",
       "9    2017-01-07 11:46:00+00  \n",
       "62   2017-01-10 11:26:00+00  \n",
       "74   2017-02-17 10:19:00+00  \n",
       "81   2017-02-20 10:15:00+00  \n",
       "25   2017-02-11 11:53:00+00  \n",
       "41   2017-01-19 11:47:00+00  \n",
       "44   2017-02-04 11:46:00+00  \n",
       "112  2017-02-12 10:17:00+00  \n",
       "3    2017-02-13 11:46:00+00  "
      ]
     },
     "execution_count": 102,
     "metadata": {},
     "output_type": "execute_result"
    }
   ],
   "source": [
    "data.sample(10)"
   ]
  },
  {
   "cell_type": "code",
   "execution_count": 103,
   "metadata": {},
   "outputs": [
    {
     "name": "stdout",
     "output_type": "stream",
     "text": [
      "<class 'pandas.core.frame.DataFrame'>\n",
      "RangeIndex: 127 entries, 0 to 126\n",
      "Data columns (total 10 columns):\n",
      " #   Column            Non-Null Count  Dtype  \n",
      "---  ------            --------------  -----  \n",
      " 0   flight_id         127 non-null    int64  \n",
      " 1   airplane_model    127 non-null    object \n",
      " 2   flight_time       127 non-null    int64  \n",
      " 3   flight_revenue    118 non-null    float64\n",
      " 4   seat_qty          127 non-null    int64  \n",
      " 5   arrival_airport   127 non-null    object \n",
      " 6   arrival_city      127 non-null    object \n",
      " 7   qty_booked_seats  118 non-null    float64\n",
      " 8   actual_departure  127 non-null    object \n",
      " 9   actual_arrival    127 non-null    object \n",
      "dtypes: float64(2), int64(3), object(5)\n",
      "memory usage: 10.0+ KB\n"
     ]
    }
   ],
   "source": [
    "data.info()"
   ]
  },
  {
   "cell_type": "code",
   "execution_count": 86,
   "metadata": {},
   "outputs": [
    {
     "ename": "SyntaxError",
     "evalue": "invalid syntax (<ipython-input-86-9865882a3092>, line 1)",
     "output_type": "error",
     "traceback": [
      "\u001b[1;36m  File \u001b[1;32m\"<ipython-input-86-9865882a3092>\"\u001b[1;36m, line \u001b[1;32m1\u001b[0m\n\u001b[1;33m    Делаем вывод, что в таблице есть, пропуски которые необходимо заполнить\u001b[0m\n\u001b[1;37m               ^\u001b[0m\n\u001b[1;31mSyntaxError\u001b[0m\u001b[1;31m:\u001b[0m invalid syntax\n"
     ]
    }
   ],
   "source": [
    "Делаем вывод, что в таблице есть, пропуски которые необходимо заполнить"
   ]
  },
  {
   "cell_type": "code",
   "execution_count": 104,
   "metadata": {},
   "outputs": [
    {
     "data": {
      "text/html": [
       "<div>\n",
       "<style scoped>\n",
       "    .dataframe tbody tr th:only-of-type {\n",
       "        vertical-align: middle;\n",
       "    }\n",
       "\n",
       "    .dataframe tbody tr th {\n",
       "        vertical-align: top;\n",
       "    }\n",
       "\n",
       "    .dataframe thead th {\n",
       "        text-align: right;\n",
       "    }\n",
       "</style>\n",
       "<table border=\"1\" class=\"dataframe\">\n",
       "  <thead>\n",
       "    <tr style=\"text-align: right;\">\n",
       "      <th></th>\n",
       "      <th>flight_id</th>\n",
       "      <th>airplane_model</th>\n",
       "      <th>flight_time</th>\n",
       "      <th>flight_revenue</th>\n",
       "      <th>seat_qty</th>\n",
       "      <th>arrival_airport</th>\n",
       "      <th>arrival_city</th>\n",
       "      <th>qty_booked_seats</th>\n",
       "      <th>actual_departure</th>\n",
       "      <th>actual_arrival</th>\n",
       "    </tr>\n",
       "  </thead>\n",
       "  <tbody>\n",
       "    <tr>\n",
       "      <th>59</th>\n",
       "      <td>136511</td>\n",
       "      <td>Boeing 737-300</td>\n",
       "      <td>310</td>\n",
       "      <td>NaN</td>\n",
       "      <td>130</td>\n",
       "      <td>NOZ</td>\n",
       "      <td>Novokuznetsk</td>\n",
       "      <td>NaN</td>\n",
       "      <td>2017-02-21 06:15:00+00</td>\n",
       "      <td>2017-02-21 11:25:00+00</td>\n",
       "    </tr>\n",
       "    <tr>\n",
       "      <th>60</th>\n",
       "      <td>136513</td>\n",
       "      <td>Boeing 737-300</td>\n",
       "      <td>310</td>\n",
       "      <td>NaN</td>\n",
       "      <td>130</td>\n",
       "      <td>NOZ</td>\n",
       "      <td>Novokuznetsk</td>\n",
       "      <td>NaN</td>\n",
       "      <td>2017-02-28 06:13:00+00</td>\n",
       "      <td>2017-02-28 11:23:00+00</td>\n",
       "    </tr>\n",
       "    <tr>\n",
       "      <th>61</th>\n",
       "      <td>136514</td>\n",
       "      <td>Boeing 737-300</td>\n",
       "      <td>299</td>\n",
       "      <td>NaN</td>\n",
       "      <td>130</td>\n",
       "      <td>NOZ</td>\n",
       "      <td>Novokuznetsk</td>\n",
       "      <td>NaN</td>\n",
       "      <td>2017-02-07 06:14:00+00</td>\n",
       "      <td>2017-02-07 11:13:00+00</td>\n",
       "    </tr>\n",
       "    <tr>\n",
       "      <th>62</th>\n",
       "      <td>136523</td>\n",
       "      <td>Boeing 737-300</td>\n",
       "      <td>312</td>\n",
       "      <td>NaN</td>\n",
       "      <td>130</td>\n",
       "      <td>NOZ</td>\n",
       "      <td>Novokuznetsk</td>\n",
       "      <td>NaN</td>\n",
       "      <td>2017-01-10 06:14:00+00</td>\n",
       "      <td>2017-01-10 11:26:00+00</td>\n",
       "    </tr>\n",
       "    <tr>\n",
       "      <th>63</th>\n",
       "      <td>136540</td>\n",
       "      <td>Boeing 737-300</td>\n",
       "      <td>307</td>\n",
       "      <td>NaN</td>\n",
       "      <td>130</td>\n",
       "      <td>NOZ</td>\n",
       "      <td>Novokuznetsk</td>\n",
       "      <td>NaN</td>\n",
       "      <td>2017-01-17 06:14:00+00</td>\n",
       "      <td>2017-01-17 11:21:00+00</td>\n",
       "    </tr>\n",
       "    <tr>\n",
       "      <th>64</th>\n",
       "      <td>136544</td>\n",
       "      <td>Boeing 737-300</td>\n",
       "      <td>304</td>\n",
       "      <td>NaN</td>\n",
       "      <td>130</td>\n",
       "      <td>NOZ</td>\n",
       "      <td>Novokuznetsk</td>\n",
       "      <td>NaN</td>\n",
       "      <td>2017-01-31 06:10:00+00</td>\n",
       "      <td>2017-01-31 11:14:00+00</td>\n",
       "    </tr>\n",
       "    <tr>\n",
       "      <th>65</th>\n",
       "      <td>136546</td>\n",
       "      <td>Boeing 737-300</td>\n",
       "      <td>302</td>\n",
       "      <td>NaN</td>\n",
       "      <td>130</td>\n",
       "      <td>NOZ</td>\n",
       "      <td>Novokuznetsk</td>\n",
       "      <td>NaN</td>\n",
       "      <td>2017-01-03 06:13:00+00</td>\n",
       "      <td>2017-01-03 11:15:00+00</td>\n",
       "    </tr>\n",
       "    <tr>\n",
       "      <th>66</th>\n",
       "      <td>136560</td>\n",
       "      <td>Boeing 737-300</td>\n",
       "      <td>305</td>\n",
       "      <td>NaN</td>\n",
       "      <td>130</td>\n",
       "      <td>NOZ</td>\n",
       "      <td>Novokuznetsk</td>\n",
       "      <td>NaN</td>\n",
       "      <td>2017-01-24 06:13:00+00</td>\n",
       "      <td>2017-01-24 11:18:00+00</td>\n",
       "    </tr>\n",
       "    <tr>\n",
       "      <th>67</th>\n",
       "      <td>136567</td>\n",
       "      <td>Boeing 737-300</td>\n",
       "      <td>311</td>\n",
       "      <td>NaN</td>\n",
       "      <td>130</td>\n",
       "      <td>NOZ</td>\n",
       "      <td>Novokuznetsk</td>\n",
       "      <td>NaN</td>\n",
       "      <td>2017-02-14 06:12:00+00</td>\n",
       "      <td>2017-02-14 11:23:00+00</td>\n",
       "    </tr>\n",
       "  </tbody>\n",
       "</table>\n",
       "</div>"
      ],
      "text/plain": [
       "    flight_id  airplane_model  flight_time  flight_revenue  seat_qty  \\\n",
       "59     136511  Boeing 737-300          310             NaN       130   \n",
       "60     136513  Boeing 737-300          310             NaN       130   \n",
       "61     136514  Boeing 737-300          299             NaN       130   \n",
       "62     136523  Boeing 737-300          312             NaN       130   \n",
       "63     136540  Boeing 737-300          307             NaN       130   \n",
       "64     136544  Boeing 737-300          304             NaN       130   \n",
       "65     136546  Boeing 737-300          302             NaN       130   \n",
       "66     136560  Boeing 737-300          305             NaN       130   \n",
       "67     136567  Boeing 737-300          311             NaN       130   \n",
       "\n",
       "   arrival_airport  arrival_city  qty_booked_seats        actual_departure  \\\n",
       "59             NOZ  Novokuznetsk               NaN  2017-02-21 06:15:00+00   \n",
       "60             NOZ  Novokuznetsk               NaN  2017-02-28 06:13:00+00   \n",
       "61             NOZ  Novokuznetsk               NaN  2017-02-07 06:14:00+00   \n",
       "62             NOZ  Novokuznetsk               NaN  2017-01-10 06:14:00+00   \n",
       "63             NOZ  Novokuznetsk               NaN  2017-01-17 06:14:00+00   \n",
       "64             NOZ  Novokuznetsk               NaN  2017-01-31 06:10:00+00   \n",
       "65             NOZ  Novokuznetsk               NaN  2017-01-03 06:13:00+00   \n",
       "66             NOZ  Novokuznetsk               NaN  2017-01-24 06:13:00+00   \n",
       "67             NOZ  Novokuznetsk               NaN  2017-02-14 06:12:00+00   \n",
       "\n",
       "            actual_arrival  \n",
       "59  2017-02-21 11:25:00+00  \n",
       "60  2017-02-28 11:23:00+00  \n",
       "61  2017-02-07 11:13:00+00  \n",
       "62  2017-01-10 11:26:00+00  \n",
       "63  2017-01-17 11:21:00+00  \n",
       "64  2017-01-31 11:14:00+00  \n",
       "65  2017-01-03 11:15:00+00  \n",
       "66  2017-01-24 11:18:00+00  \n",
       "67  2017-02-14 11:23:00+00  "
      ]
     },
     "execution_count": 104,
     "metadata": {},
     "output_type": "execute_result"
    }
   ],
   "source": [
    "data[data['flight_revenue'].isnull()] # выводти таблицу с пропусками"
   ]
  },
  {
   "cell_type": "code",
   "execution_count": 105,
   "metadata": {},
   "outputs": [
    {
     "data": {
      "text/html": [
       "<div>\n",
       "<style scoped>\n",
       "    .dataframe tbody tr th:only-of-type {\n",
       "        vertical-align: middle;\n",
       "    }\n",
       "\n",
       "    .dataframe tbody tr th {\n",
       "        vertical-align: top;\n",
       "    }\n",
       "\n",
       "    .dataframe thead th {\n",
       "        text-align: right;\n",
       "    }\n",
       "</style>\n",
       "<table border=\"1\" class=\"dataframe\">\n",
       "  <thead>\n",
       "    <tr style=\"text-align: right;\">\n",
       "      <th></th>\n",
       "      <th>flight_id</th>\n",
       "      <th>airplane_model</th>\n",
       "      <th>flight_time</th>\n",
       "      <th>flight_revenue</th>\n",
       "      <th>seat_qty</th>\n",
       "      <th>arrival_airport</th>\n",
       "      <th>arrival_city</th>\n",
       "      <th>qty_booked_seats</th>\n",
       "      <th>actual_departure</th>\n",
       "      <th>actual_arrival</th>\n",
       "    </tr>\n",
       "  </thead>\n",
       "  <tbody>\n",
       "    <tr>\n",
       "      <th>59</th>\n",
       "      <td>136511</td>\n",
       "      <td>Boeing 737-300</td>\n",
       "      <td>310</td>\n",
       "      <td>NaN</td>\n",
       "      <td>130</td>\n",
       "      <td>NOZ</td>\n",
       "      <td>Novokuznetsk</td>\n",
       "      <td>NaN</td>\n",
       "      <td>2017-02-21 06:15:00+00</td>\n",
       "      <td>2017-02-21 11:25:00+00</td>\n",
       "    </tr>\n",
       "    <tr>\n",
       "      <th>60</th>\n",
       "      <td>136513</td>\n",
       "      <td>Boeing 737-300</td>\n",
       "      <td>310</td>\n",
       "      <td>NaN</td>\n",
       "      <td>130</td>\n",
       "      <td>NOZ</td>\n",
       "      <td>Novokuznetsk</td>\n",
       "      <td>NaN</td>\n",
       "      <td>2017-02-28 06:13:00+00</td>\n",
       "      <td>2017-02-28 11:23:00+00</td>\n",
       "    </tr>\n",
       "    <tr>\n",
       "      <th>61</th>\n",
       "      <td>136514</td>\n",
       "      <td>Boeing 737-300</td>\n",
       "      <td>299</td>\n",
       "      <td>NaN</td>\n",
       "      <td>130</td>\n",
       "      <td>NOZ</td>\n",
       "      <td>Novokuznetsk</td>\n",
       "      <td>NaN</td>\n",
       "      <td>2017-02-07 06:14:00+00</td>\n",
       "      <td>2017-02-07 11:13:00+00</td>\n",
       "    </tr>\n",
       "    <tr>\n",
       "      <th>62</th>\n",
       "      <td>136523</td>\n",
       "      <td>Boeing 737-300</td>\n",
       "      <td>312</td>\n",
       "      <td>NaN</td>\n",
       "      <td>130</td>\n",
       "      <td>NOZ</td>\n",
       "      <td>Novokuznetsk</td>\n",
       "      <td>NaN</td>\n",
       "      <td>2017-01-10 06:14:00+00</td>\n",
       "      <td>2017-01-10 11:26:00+00</td>\n",
       "    </tr>\n",
       "    <tr>\n",
       "      <th>63</th>\n",
       "      <td>136540</td>\n",
       "      <td>Boeing 737-300</td>\n",
       "      <td>307</td>\n",
       "      <td>NaN</td>\n",
       "      <td>130</td>\n",
       "      <td>NOZ</td>\n",
       "      <td>Novokuznetsk</td>\n",
       "      <td>NaN</td>\n",
       "      <td>2017-01-17 06:14:00+00</td>\n",
       "      <td>2017-01-17 11:21:00+00</td>\n",
       "    </tr>\n",
       "    <tr>\n",
       "      <th>64</th>\n",
       "      <td>136544</td>\n",
       "      <td>Boeing 737-300</td>\n",
       "      <td>304</td>\n",
       "      <td>NaN</td>\n",
       "      <td>130</td>\n",
       "      <td>NOZ</td>\n",
       "      <td>Novokuznetsk</td>\n",
       "      <td>NaN</td>\n",
       "      <td>2017-01-31 06:10:00+00</td>\n",
       "      <td>2017-01-31 11:14:00+00</td>\n",
       "    </tr>\n",
       "    <tr>\n",
       "      <th>65</th>\n",
       "      <td>136546</td>\n",
       "      <td>Boeing 737-300</td>\n",
       "      <td>302</td>\n",
       "      <td>NaN</td>\n",
       "      <td>130</td>\n",
       "      <td>NOZ</td>\n",
       "      <td>Novokuznetsk</td>\n",
       "      <td>NaN</td>\n",
       "      <td>2017-01-03 06:13:00+00</td>\n",
       "      <td>2017-01-03 11:15:00+00</td>\n",
       "    </tr>\n",
       "    <tr>\n",
       "      <th>66</th>\n",
       "      <td>136560</td>\n",
       "      <td>Boeing 737-300</td>\n",
       "      <td>305</td>\n",
       "      <td>NaN</td>\n",
       "      <td>130</td>\n",
       "      <td>NOZ</td>\n",
       "      <td>Novokuznetsk</td>\n",
       "      <td>NaN</td>\n",
       "      <td>2017-01-24 06:13:00+00</td>\n",
       "      <td>2017-01-24 11:18:00+00</td>\n",
       "    </tr>\n",
       "    <tr>\n",
       "      <th>67</th>\n",
       "      <td>136567</td>\n",
       "      <td>Boeing 737-300</td>\n",
       "      <td>311</td>\n",
       "      <td>NaN</td>\n",
       "      <td>130</td>\n",
       "      <td>NOZ</td>\n",
       "      <td>Novokuznetsk</td>\n",
       "      <td>NaN</td>\n",
       "      <td>2017-02-14 06:12:00+00</td>\n",
       "      <td>2017-02-14 11:23:00+00</td>\n",
       "    </tr>\n",
       "  </tbody>\n",
       "</table>\n",
       "</div>"
      ],
      "text/plain": [
       "    flight_id  airplane_model  flight_time  flight_revenue  seat_qty  \\\n",
       "59     136511  Boeing 737-300          310             NaN       130   \n",
       "60     136513  Boeing 737-300          310             NaN       130   \n",
       "61     136514  Boeing 737-300          299             NaN       130   \n",
       "62     136523  Boeing 737-300          312             NaN       130   \n",
       "63     136540  Boeing 737-300          307             NaN       130   \n",
       "64     136544  Boeing 737-300          304             NaN       130   \n",
       "65     136546  Boeing 737-300          302             NaN       130   \n",
       "66     136560  Boeing 737-300          305             NaN       130   \n",
       "67     136567  Boeing 737-300          311             NaN       130   \n",
       "\n",
       "   arrival_airport  arrival_city  qty_booked_seats        actual_departure  \\\n",
       "59             NOZ  Novokuznetsk               NaN  2017-02-21 06:15:00+00   \n",
       "60             NOZ  Novokuznetsk               NaN  2017-02-28 06:13:00+00   \n",
       "61             NOZ  Novokuznetsk               NaN  2017-02-07 06:14:00+00   \n",
       "62             NOZ  Novokuznetsk               NaN  2017-01-10 06:14:00+00   \n",
       "63             NOZ  Novokuznetsk               NaN  2017-01-17 06:14:00+00   \n",
       "64             NOZ  Novokuznetsk               NaN  2017-01-31 06:10:00+00   \n",
       "65             NOZ  Novokuznetsk               NaN  2017-01-03 06:13:00+00   \n",
       "66             NOZ  Novokuznetsk               NaN  2017-01-24 06:13:00+00   \n",
       "67             NOZ  Novokuznetsk               NaN  2017-02-14 06:12:00+00   \n",
       "\n",
       "            actual_arrival  \n",
       "59  2017-02-21 11:25:00+00  \n",
       "60  2017-02-28 11:23:00+00  \n",
       "61  2017-02-07 11:13:00+00  \n",
       "62  2017-01-10 11:26:00+00  \n",
       "63  2017-01-17 11:21:00+00  \n",
       "64  2017-01-31 11:14:00+00  \n",
       "65  2017-01-03 11:15:00+00  \n",
       "66  2017-01-24 11:18:00+00  \n",
       "67  2017-02-14 11:23:00+00  "
      ]
     },
     "execution_count": 105,
     "metadata": {},
     "output_type": "execute_result"
    }
   ],
   "source": [
    "data[data['arrival_city'] =='Novokuznetsk'] # делаем фильтр по город"
   ]
  },
  {
   "cell_type": "code",
   "execution_count": null,
   "metadata": {},
   "outputs": [],
   "source": [
    "Делаем вывод что нет информации только по Новокузнецку, т.к. нет ключевой информации, считаю что стоит удалить эти строки."
   ]
  },
  {
   "cell_type": "code",
   "execution_count": 106,
   "metadata": {},
   "outputs": [],
   "source": [
    "data.dropna(inplace=True) #удаляем строки с пропусками"
   ]
  },
  {
   "cell_type": "code",
   "execution_count": 107,
   "metadata": {},
   "outputs": [
    {
     "data": {
      "text/plain": [
       "array(['Boeing 737-300', 'Sukhoi Superjet-100'], dtype=object)"
      ]
     },
     "execution_count": 107,
     "metadata": {},
     "output_type": "execute_result"
    }
   ],
   "source": [
    "data.airplane_model.unique() # находим уникльные модели самолетов в массиве"
   ]
  },
  {
   "cell_type": "code",
   "execution_count": 91,
   "metadata": {},
   "outputs": [
    {
     "ename": "SyntaxError",
     "evalue": "invalid syntax (<ipython-input-91-a249b0063a96>, line 1)",
     "output_type": "error",
     "traceback": [
      "\u001b[1;36m  File \u001b[1;32m\"<ipython-input-91-a249b0063a96>\"\u001b[1;36m, line \u001b[1;32m1\u001b[0m\n\u001b[1;33m    'Boeing 737-300' 40 кг/мин,'Sukhoi Superjet-100' 28.33, средняя стоимость авиционного керосина = 41.435 за 1 кг\u001b[0m\n\u001b[1;37m                      ^\u001b[0m\n\u001b[1;31mSyntaxError\u001b[0m\u001b[1;31m:\u001b[0m invalid syntax\n"
     ]
    }
   ],
   "source": [
    "'Boeing 737-300' 40 кг/мин,'Sukhoi Superjet-100' 28.33, средняя стоимость авиционного керосина = 41.435 за 1 кг"
   ]
  },
  {
   "cell_type": "code",
   "execution_count": 108,
   "metadata": {},
   "outputs": [],
   "source": [
    "# напишем функцию которая расчитывает рассходы на перелет\n",
    "# умнажаем на мин. т.к. не всегда самолет литит самым кротчайшим путем\n",
    "def fill_exp(row):\n",
    "    if row['airplane_model'] == 'Boeing 737-300':\n",
    "        return row['flight_time']*40*41.435\n",
    "    if row['airplane_model'] == 'Sukhoi Superjet-100':\n",
    "        return row['flight_time']*28.33*41.435"
   ]
  },
  {
   "cell_type": "code",
   "execution_count": 109,
   "metadata": {},
   "outputs": [],
   "source": [
    "data['expenses'] = round(data.apply(fill_exp, axis = 1),1) # cоздаем новый признак \"expenses\""
   ]
  },
  {
   "cell_type": "code",
   "execution_count": 110,
   "metadata": {},
   "outputs": [],
   "source": [
    "data['profit']= (data.flight_revenue-data.expenses)/1000000 # создаем новый признак дохода"
   ]
  },
  {
   "cell_type": "code",
   "execution_count": 111,
   "metadata": {},
   "outputs": [],
   "source": [
    "data['plane_occupancy'] = round(data.qty_booked_seats/data.seat_qty*100,1) # создаем признак - процент заполняемости самалета"
   ]
  },
  {
   "cell_type": "code",
   "execution_count": 112,
   "metadata": {},
   "outputs": [
    {
     "data": {
      "text/plain": [
       "arrival_city  airplane_model     \n",
       "Belgorod      Sukhoi Superjet-100    38.446963\n",
       "Moscow        Boeing 737-300         87.149914\n",
       "Name: profit, dtype: float64"
      ]
     },
     "execution_count": 112,
     "metadata": {},
     "output_type": "execute_result"
    }
   ],
   "source": [
    "data.groupby(by = ['arrival_city','airplane_model'])['profit'].sum()# группируем по городам прибытия и моделям самалетов"
   ]
  },
  {
   "cell_type": "code",
   "execution_count": null,
   "metadata": {},
   "outputs": [],
   "source": [
    "Делаем вывод что летают два самалета: Sukhoi Superjet-100 в Белгород а Boeing 737-300 в Москву и прибыль полетов в Белгород\n",
    "    гораздо ниже"
   ]
  },
  {
   "cell_type": "code",
   "execution_count": 55,
   "metadata": {},
   "outputs": [
    {
     "ename": "SyntaxError",
     "evalue": "invalid syntax (<ipython-input-55-2122ebca5914>, line 1)",
     "output_type": "error",
     "traceback": [
      "\u001b[1;36m  File \u001b[1;32m\"<ipython-input-55-2122ebca5914>\"\u001b[1;36m, line \u001b[1;32m1\u001b[0m\n\u001b[1;33m    Переведем 'actual_departure', 'actual_arrival' в формат datetime\u001b[0m\n\u001b[1;37m                               ^\u001b[0m\n\u001b[1;31mSyntaxError\u001b[0m\u001b[1;31m:\u001b[0m invalid syntax\n"
     ]
    }
   ],
   "source": [
    "Переведем 'actual_departure', 'actual_arrival' в формат datetime"
   ]
  },
  {
   "cell_type": "code",
   "execution_count": 113,
   "metadata": {},
   "outputs": [],
   "source": [
    "from datetime import datetime, date, timedelta, time"
   ]
  },
  {
   "cell_type": "code",
   "execution_count": 114,
   "metadata": {},
   "outputs": [],
   "source": [
    "data[['actual_departure', 'actual_arrival']] = data[['actual_departure', 'actual_arrival']].apply(pd.to_datetime)"
   ]
  },
  {
   "cell_type": "code",
   "execution_count": 115,
   "metadata": {},
   "outputs": [],
   "source": [
    "data['departure_day'] = data['actual_departure'].dt.weekday# создадим признак по дням недели"
   ]
  },
  {
   "cell_type": "code",
   "execution_count": 116,
   "metadata": {},
   "outputs": [],
   "source": [
    "data['departure_month'] = data['actual_departure'].dt.month# создадим признак по месяцам"
   ]
  },
  {
   "cell_type": "code",
   "execution_count": 117,
   "metadata": {},
   "outputs": [],
   "source": [
    "#убираем лишние столбыцы\n",
    "data.drop(columns=['actual_departure','actual_arrival','expenses', 'flight_revenue'], axis=1, inplace=True)"
   ]
  },
  {
   "cell_type": "code",
   "execution_count": 118,
   "metadata": {},
   "outputs": [],
   "source": [
    "data_msc=data[data.arrival_city == 'Moscow'] # создаем дата фрейм только, где принимающий город - Москва"
   ]
  },
  {
   "cell_type": "code",
   "execution_count": 119,
   "metadata": {},
   "outputs": [],
   "source": [
    "data_bgd=data[data.arrival_city == 'Belgorod'] # создаем дата фрейм только, где принимающий город - Белгород"
   ]
  },
  {
   "cell_type": "code",
   "execution_count": null,
   "metadata": {},
   "outputs": [],
   "source": [
    "Анализируем полеты в Белгород"
   ]
  },
  {
   "cell_type": "code",
   "execution_count": 65,
   "metadata": {},
   "outputs": [
    {
     "data": {
      "text/html": [
       "<div>\n",
       "<style scoped>\n",
       "    .dataframe tbody tr th:only-of-type {\n",
       "        vertical-align: middle;\n",
       "    }\n",
       "\n",
       "    .dataframe tbody tr th {\n",
       "        vertical-align: top;\n",
       "    }\n",
       "\n",
       "    .dataframe thead tr th {\n",
       "        text-align: left;\n",
       "    }\n",
       "\n",
       "    .dataframe thead tr:last-of-type th {\n",
       "        text-align: right;\n",
       "    }\n",
       "</style>\n",
       "<table border=\"1\" class=\"dataframe\">\n",
       "  <thead>\n",
       "    <tr>\n",
       "      <th></th>\n",
       "      <th>min</th>\n",
       "      <th>mean</th>\n",
       "      <th>max</th>\n",
       "    </tr>\n",
       "    <tr>\n",
       "      <th></th>\n",
       "      <th>profit</th>\n",
       "      <th>profit</th>\n",
       "      <th>profit</th>\n",
       "    </tr>\n",
       "    <tr>\n",
       "      <th>departure_day</th>\n",
       "      <th></th>\n",
       "      <th></th>\n",
       "      <th></th>\n",
       "    </tr>\n",
       "  </thead>\n",
       "  <tbody>\n",
       "    <tr>\n",
       "      <th>0</th>\n",
       "      <td>0.473481</td>\n",
       "      <td>0.635641</td>\n",
       "      <td>0.706607</td>\n",
       "    </tr>\n",
       "    <tr>\n",
       "      <th>1</th>\n",
       "      <td>0.516407</td>\n",
       "      <td>0.639383</td>\n",
       "      <td>0.706607</td>\n",
       "    </tr>\n",
       "    <tr>\n",
       "      <th>2</th>\n",
       "      <td>0.643607</td>\n",
       "      <td>0.694501</td>\n",
       "      <td>0.706607</td>\n",
       "    </tr>\n",
       "    <tr>\n",
       "      <th>3</th>\n",
       "      <td>0.472307</td>\n",
       "      <td>0.640526</td>\n",
       "      <td>0.707781</td>\n",
       "    </tr>\n",
       "    <tr>\n",
       "      <th>4</th>\n",
       "      <td>0.537681</td>\n",
       "      <td>0.647763</td>\n",
       "      <td>0.707781</td>\n",
       "    </tr>\n",
       "    <tr>\n",
       "      <th>5</th>\n",
       "      <td>0.549107</td>\n",
       "      <td>0.658764</td>\n",
       "      <td>0.706607</td>\n",
       "    </tr>\n",
       "    <tr>\n",
       "      <th>6</th>\n",
       "      <td>0.560534</td>\n",
       "      <td>0.648813</td>\n",
       "      <td>0.705434</td>\n",
       "    </tr>\n",
       "  </tbody>\n",
       "</table>\n",
       "</div>"
      ],
      "text/plain": [
       "                    min      mean       max\n",
       "                 profit    profit    profit\n",
       "departure_day                              \n",
       "0              0.473481  0.635641  0.706607\n",
       "1              0.516407  0.639383  0.706607\n",
       "2              0.643607  0.694501  0.706607\n",
       "3              0.472307  0.640526  0.707781\n",
       "4              0.537681  0.647763  0.707781\n",
       "5              0.549107  0.658764  0.706607\n",
       "6              0.560534  0.648813  0.705434"
      ]
     },
     "execution_count": 65,
     "metadata": {},
     "output_type": "execute_result"
    }
   ],
   "source": [
    "data_bgd.pivot_table(values = 'profit', index = 'departure_day', aggfunc = [\"min\", 'mean', \"max\"])"
   ]
  },
  {
   "cell_type": "code",
   "execution_count": null,
   "metadata": {},
   "outputs": [],
   "source": [
    "Делаем вывод, что по дням недели доход сильно не отличается"
   ]
  },
  {
   "cell_type": "code",
   "execution_count": 75,
   "metadata": {},
   "outputs": [
    {
     "data": {
      "text/plain": [
       "1    31\n",
       "2    28\n",
       "Name: departure_month, dtype: int64"
      ]
     },
     "execution_count": 75,
     "metadata": {},
     "output_type": "execute_result"
    }
   ],
   "source": [
    "data_bgd.departure_month.value_counts()# кол-во налюдений по месяцам"
   ]
  },
  {
   "cell_type": "code",
   "execution_count": null,
   "metadata": {},
   "outputs": [],
   "source": [
    "Кол-во полетов в каждом месяце примерно одинаковое"
   ]
  },
  {
   "cell_type": "code",
   "execution_count": 89,
   "metadata": {},
   "outputs": [
    {
     "data": {
      "text/plain": [
       "Text(0.5, 0, 'Доход')"
      ]
     },
     "execution_count": 89,
     "metadata": {},
     "output_type": "execute_result"
    },
    {
     "data": {
      "image/png": "[encoded data removed]",
      "text/plain": [
       "<Figure size 432x288 with 1 Axes>"
      ]
     },
     "metadata": {
      "needs_background": "light"
     },
     "output_type": "display_data"
    }
   ],
   "source": [
    "# Рисуем диаграмму, отображающую распределение полетво по доходу\n",
    "fig = plt.figure()\n",
    "axes = fig.add_axes([0, 0, 1, 1])\n",
    "axes.hist(data_bgd['profit'], bins = 20)\n",
    "# Добавляем подписи\n",
    "axes.set_xlabel('Доход')"
   ]
  },
  {
   "cell_type": "code",
   "execution_count": null,
   "metadata": {},
   "outputs": [],
   "source": [
    "Из диаграммы видно что большое кол-во полетов с доходность около 700 000 руб."
   ]
  },
  {
   "cell_type": "code",
   "execution_count": 145,
   "metadata": {},
   "outputs": [
    {
     "data": {
      "text/plain": [
       "<matplotlib.axes._subplots.AxesSubplot at 0x19f32b00240>"
      ]
     },
     "execution_count": 145,
     "metadata": {},
     "output_type": "execute_result"
    },
    {
     "data": {
      "image/png": "[encoded data removed]",
      "text/plain": [
       "<Figure size 1080x720 with 1 Axes>"
      ]
     },
     "metadata": {
      "needs_background": "light"
     },
     "output_type": "display_data"
    }
   ],
   "source": [
    "data_bgd.plot(x = 'profit', \n",
    "        y = 'plane_occupancy',\n",
    "        kind = 'scatter', \n",
    "        grid = True, \n",
    "        title = 'Profit VS Plane Occupancy')"
   ]
  },
  {
   "cell_type": "code",
   "execution_count": null,
   "metadata": {},
   "outputs": [],
   "source": [
    "Из графика выше видно, что есть два полета с плохой заполяемость и низким доходам в сравлнении с остальными.\n",
    "Их рекомендуется убрать"
   ]
  },
  {
   "cell_type": "code",
   "execution_count": 125,
   "metadata": {},
   "outputs": [
    {
     "data": {
      "text/html": [
       "<div>\n",
       "<style scoped>\n",
       "    .dataframe tbody tr th:only-of-type {\n",
       "        vertical-align: middle;\n",
       "    }\n",
       "\n",
       "    .dataframe tbody tr th {\n",
       "        vertical-align: top;\n",
       "    }\n",
       "\n",
       "    .dataframe thead th {\n",
       "        text-align: right;\n",
       "    }\n",
       "</style>\n",
       "<table border=\"1\" class=\"dataframe\">\n",
       "  <thead>\n",
       "    <tr style=\"text-align: right;\">\n",
       "      <th></th>\n",
       "      <th>flight_id</th>\n",
       "      <th>airplane_model</th>\n",
       "      <th>flight_time</th>\n",
       "      <th>seat_qty</th>\n",
       "      <th>arrival_airport</th>\n",
       "      <th>arrival_city</th>\n",
       "      <th>qty_booked_seats</th>\n",
       "      <th>profit</th>\n",
       "      <th>plane_occupancy</th>\n",
       "      <th>departure_day</th>\n",
       "      <th>departure_month</th>\n",
       "    </tr>\n",
       "  </thead>\n",
       "  <tbody>\n",
       "    <tr>\n",
       "      <th>77</th>\n",
       "      <td>136642</td>\n",
       "      <td>Sukhoi Superjet-100</td>\n",
       "      <td>49</td>\n",
       "      <td>97</td>\n",
       "      <td>EGO</td>\n",
       "      <td>Belgorod</td>\n",
       "      <td>64.0</td>\n",
       "      <td>0.473481</td>\n",
       "      <td>66.0</td>\n",
       "      <td>0</td>\n",
       "      <td>1</td>\n",
       "    </tr>\n",
       "    <tr>\n",
       "      <th>102</th>\n",
       "      <td>136807</td>\n",
       "      <td>Sukhoi Superjet-100</td>\n",
       "      <td>50</td>\n",
       "      <td>97</td>\n",
       "      <td>EGO</td>\n",
       "      <td>Belgorod</td>\n",
       "      <td>68.0</td>\n",
       "      <td>0.472307</td>\n",
       "      <td>70.1</td>\n",
       "      <td>3</td>\n",
       "      <td>2</td>\n",
       "    </tr>\n",
       "  </tbody>\n",
       "</table>\n",
       "</div>"
      ],
      "text/plain": [
       "     flight_id       airplane_model  flight_time  seat_qty arrival_airport  \\\n",
       "77      136642  Sukhoi Superjet-100           49        97             EGO   \n",
       "102     136807  Sukhoi Superjet-100           50        97             EGO   \n",
       "\n",
       "    arrival_city  qty_booked_seats    profit  plane_occupancy  departure_day  \\\n",
       "77      Belgorod              64.0  0.473481             66.0              0   \n",
       "102     Belgorod              68.0  0.472307             70.1              3   \n",
       "\n",
       "     departure_month  \n",
       "77                 1  \n",
       "102                2  "
      ]
     },
     "execution_count": 125,
     "metadata": {},
     "output_type": "execute_result"
    }
   ],
   "source": [
    "data_bgd[data_bgd.plane_occupancy < 75 ]# находим два полета, которые рекомендовано убрать из расписания"
   ]
  },
  {
   "cell_type": "code",
   "execution_count": null,
   "metadata": {},
   "outputs": [],
   "source": [
    "Анализируем полеты в Москву"
   ]
  },
  {
   "cell_type": "code",
   "execution_count": 126,
   "metadata": {},
   "outputs": [
    {
     "data": {
      "text/html": [
       "<div>\n",
       "<style scoped>\n",
       "    .dataframe tbody tr th:only-of-type {\n",
       "        vertical-align: middle;\n",
       "    }\n",
       "\n",
       "    .dataframe tbody tr th {\n",
       "        vertical-align: top;\n",
       "    }\n",
       "\n",
       "    .dataframe thead tr th {\n",
       "        text-align: left;\n",
       "    }\n",
       "\n",
       "    .dataframe thead tr:last-of-type th {\n",
       "        text-align: right;\n",
       "    }\n",
       "</style>\n",
       "<table border=\"1\" class=\"dataframe\">\n",
       "  <thead>\n",
       "    <tr>\n",
       "      <th></th>\n",
       "      <th>min</th>\n",
       "      <th>mean</th>\n",
       "      <th>max</th>\n",
       "    </tr>\n",
       "    <tr>\n",
       "      <th></th>\n",
       "      <th>profit</th>\n",
       "      <th>profit</th>\n",
       "      <th>profit</th>\n",
       "    </tr>\n",
       "    <tr>\n",
       "      <th>departure_day</th>\n",
       "      <th></th>\n",
       "      <th></th>\n",
       "      <th></th>\n",
       "    </tr>\n",
       "  </thead>\n",
       "  <tbody>\n",
       "    <tr>\n",
       "      <th>0</th>\n",
       "      <td>1.232260</td>\n",
       "      <td>1.459511</td>\n",
       "      <td>1.720260</td>\n",
       "    </tr>\n",
       "    <tr>\n",
       "      <th>1</th>\n",
       "      <td>1.351860</td>\n",
       "      <td>1.540495</td>\n",
       "      <td>1.683660</td>\n",
       "    </tr>\n",
       "    <tr>\n",
       "      <th>2</th>\n",
       "      <td>1.240403</td>\n",
       "      <td>1.454635</td>\n",
       "      <td>1.708060</td>\n",
       "    </tr>\n",
       "    <tr>\n",
       "      <th>3</th>\n",
       "      <td>1.292060</td>\n",
       "      <td>1.485321</td>\n",
       "      <td>1.720260</td>\n",
       "    </tr>\n",
       "    <tr>\n",
       "      <th>4</th>\n",
       "      <td>1.354260</td>\n",
       "      <td>1.529714</td>\n",
       "      <td>1.671460</td>\n",
       "    </tr>\n",
       "    <tr>\n",
       "      <th>5</th>\n",
       "      <td>1.349288</td>\n",
       "      <td>1.501585</td>\n",
       "      <td>1.648717</td>\n",
       "    </tr>\n",
       "    <tr>\n",
       "      <th>6</th>\n",
       "      <td>1.265260</td>\n",
       "      <td>1.375536</td>\n",
       "      <td>1.488460</td>\n",
       "    </tr>\n",
       "  </tbody>\n",
       "</table>\n",
       "</div>"
      ],
      "text/plain": [
       "                    min      mean       max\n",
       "                 profit    profit    profit\n",
       "departure_day                              \n",
       "0              1.232260  1.459511  1.720260\n",
       "1              1.351860  1.540495  1.683660\n",
       "2              1.240403  1.454635  1.708060\n",
       "3              1.292060  1.485321  1.720260\n",
       "4              1.354260  1.529714  1.671460\n",
       "5              1.349288  1.501585  1.648717\n",
       "6              1.265260  1.375536  1.488460"
      ]
     },
     "execution_count": 126,
     "metadata": {},
     "output_type": "execute_result"
    }
   ],
   "source": [
    "data_msc.pivot_table(values = 'profit', index = 'departure_day', aggfunc = [\"min\", 'mean', \"max\"])"
   ]
  },
  {
   "cell_type": "code",
   "execution_count": null,
   "metadata": {},
   "outputs": [],
   "source": [
    "Делаем вывод, что по в воскресенье самый не прибыльный день"
   ]
  },
  {
   "cell_type": "code",
   "execution_count": 128,
   "metadata": {},
   "outputs": [
    {
     "data": {
      "text/plain": [
       "1    31\n",
       "2    28\n",
       "Name: departure_month, dtype: int64"
      ]
     },
     "execution_count": 128,
     "metadata": {},
     "output_type": "execute_result"
    }
   ],
   "source": [
    "data_msc.departure_month.value_counts()# кол-во налюдений по месяцам"
   ]
  },
  {
   "cell_type": "code",
   "execution_count": 130,
   "metadata": {},
   "outputs": [
    {
     "data": {
      "text/plain": [
       "Text(0.5,0,'Доход')"
      ]
     },
     "execution_count": 130,
     "metadata": {},
     "output_type": "execute_result"
    },
    {
     "data": {
      "image/png": "[encoded data removed]",
      "text/plain": [
       "<Figure size 1080x720 with 1 Axes>"
      ]
     },
     "metadata": {
      "needs_background": "light"
     },
     "output_type": "display_data"
    }
   ],
   "source": [
    "# Рисуем диаграмму, отображающую распределение полетво по доходу\n",
    "fig = plt.figure()\n",
    "axes = fig.add_axes([0, 0, 1, 1])\n",
    "axes.hist(data_msc['profit'], bins = 50)\n",
    "# Добавляем подписи\n",
    "axes.set_xlabel('Доход')"
   ]
  },
  {
   "cell_type": "code",
   "execution_count": 131,
   "metadata": {},
   "outputs": [
    {
     "data": {
      "text/plain": [
       "<matplotlib.axes._subplots.AxesSubplot at 0x19f33f1cef0>"
      ]
     },
     "execution_count": 131,
     "metadata": {},
     "output_type": "execute_result"
    },
    {
     "data": {
      "image/png": "[encoded data removed]",
      "text/plain": [
       "<Figure size 1080x720 with 1 Axes>"
      ]
     },
     "metadata": {
      "needs_background": "light"
     },
     "output_type": "display_data"
    }
   ],
   "source": [
    "data_msc.plot(x = 'profit', \n",
    "        y = 'plane_occupancy', \n",
    "        kind = 'scatter', \n",
    "        grid = True, \n",
    "        title = 'Profit VS Plane Occupancy')"
   ]
  },
  {
   "cell_type": "code",
   "execution_count": null,
   "metadata": {},
   "outputs": [],
   "source": [
    "Из диагрммы выше видно, что есть 5 полетов, которые имеют отностильно низкую заполняемость и доход меньшь 1.3 млн руб,\n",
    "также есть один рейс у которого заполняемость больше 80 %, однако доход меншь 1.3 млн. руб."
   ]
  },
  {
   "cell_type": "code",
   "execution_count": 132,
   "metadata": {},
   "outputs": [
    {
     "data": {
      "text/html": [
       "<div>\n",
       "<style scoped>\n",
       "    .dataframe tbody tr th:only-of-type {\n",
       "        vertical-align: middle;\n",
       "    }\n",
       "\n",
       "    .dataframe tbody tr th {\n",
       "        vertical-align: top;\n",
       "    }\n",
       "\n",
       "    .dataframe thead th {\n",
       "        text-align: right;\n",
       "    }\n",
       "</style>\n",
       "<table border=\"1\" class=\"dataframe\">\n",
       "  <thead>\n",
       "    <tr style=\"text-align: right;\">\n",
       "      <th></th>\n",
       "      <th>flight_id</th>\n",
       "      <th>airplane_model</th>\n",
       "      <th>flight_time</th>\n",
       "      <th>seat_qty</th>\n",
       "      <th>arrival_airport</th>\n",
       "      <th>arrival_city</th>\n",
       "      <th>qty_booked_seats</th>\n",
       "      <th>profit</th>\n",
       "      <th>plane_occupancy</th>\n",
       "      <th>departure_day</th>\n",
       "      <th>departure_month</th>\n",
       "    </tr>\n",
       "  </thead>\n",
       "  <tbody>\n",
       "    <tr>\n",
       "      <th>2</th>\n",
       "      <td>136122</td>\n",
       "      <td>Boeing 737-300</td>\n",
       "      <td>100</td>\n",
       "      <td>130</td>\n",
       "      <td>SVO</td>\n",
       "      <td>Moscow</td>\n",
       "      <td>97.0</td>\n",
       "      <td>1.265260</td>\n",
       "      <td>74.6</td>\n",
       "      <td>6</td>\n",
       "      <td>1</td>\n",
       "    </tr>\n",
       "    <tr>\n",
       "      <th>12</th>\n",
       "      <td>136178</td>\n",
       "      <td>Boeing 737-300</td>\n",
       "      <td>99</td>\n",
       "      <td>130</td>\n",
       "      <td>SVO</td>\n",
       "      <td>Moscow</td>\n",
       "      <td>99.0</td>\n",
       "      <td>1.270517</td>\n",
       "      <td>76.2</td>\n",
       "      <td>6</td>\n",
       "      <td>1</td>\n",
       "    </tr>\n",
       "    <tr>\n",
       "      <th>21</th>\n",
       "      <td>136250</td>\n",
       "      <td>Boeing 737-300</td>\n",
       "      <td>101</td>\n",
       "      <td>130</td>\n",
       "      <td>SVO</td>\n",
       "      <td>Moscow</td>\n",
       "      <td>99.0</td>\n",
       "      <td>1.240403</td>\n",
       "      <td>76.2</td>\n",
       "      <td>2</td>\n",
       "      <td>2</td>\n",
       "    </tr>\n",
       "    <tr>\n",
       "      <th>38</th>\n",
       "      <td>136360</td>\n",
       "      <td>Boeing 737-300</td>\n",
       "      <td>100</td>\n",
       "      <td>130</td>\n",
       "      <td>SVO</td>\n",
       "      <td>Moscow</td>\n",
       "      <td>97.0</td>\n",
       "      <td>1.289660</td>\n",
       "      <td>74.6</td>\n",
       "      <td>6</td>\n",
       "      <td>2</td>\n",
       "    </tr>\n",
       "    <tr>\n",
       "      <th>54</th>\n",
       "      <td>136464</td>\n",
       "      <td>Boeing 737-300</td>\n",
       "      <td>100</td>\n",
       "      <td>130</td>\n",
       "      <td>SVO</td>\n",
       "      <td>Moscow</td>\n",
       "      <td>100.0</td>\n",
       "      <td>1.232260</td>\n",
       "      <td>76.9</td>\n",
       "      <td>0</td>\n",
       "      <td>1</td>\n",
       "    </tr>\n",
       "  </tbody>\n",
       "</table>\n",
       "</div>"
      ],
      "text/plain": [
       "    flight_id  airplane_model  flight_time  seat_qty arrival_airport  \\\n",
       "2      136122  Boeing 737-300          100       130             SVO   \n",
       "12     136178  Boeing 737-300           99       130             SVO   \n",
       "21     136250  Boeing 737-300          101       130             SVO   \n",
       "38     136360  Boeing 737-300          100       130             SVO   \n",
       "54     136464  Boeing 737-300          100       130             SVO   \n",
       "\n",
       "   arrival_city  qty_booked_seats    profit  plane_occupancy  departure_day  \\\n",
       "2        Moscow              97.0  1.265260             74.6              6   \n",
       "12       Moscow              99.0  1.270517             76.2              6   \n",
       "21       Moscow              99.0  1.240403             76.2              2   \n",
       "38       Moscow              97.0  1.289660             74.6              6   \n",
       "54       Moscow             100.0  1.232260             76.9              0   \n",
       "\n",
       "    departure_month  \n",
       "2                 1  \n",
       "12                1  \n",
       "21                2  \n",
       "38                2  \n",
       "54                1  "
      ]
     },
     "execution_count": 132,
     "metadata": {},
     "output_type": "execute_result"
    }
   ],
   "source": [
    "data_msc[(data_msc.profit < 1.3) & (data_msc.plane_occupancy < 80)]# находим полеты которые рекомендуется убрать из расписания"
   ]
  },
  {
   "cell_type": "code",
   "execution_count": 133,
   "metadata": {},
   "outputs": [
    {
     "data": {
      "text/html": [
       "<div>\n",
       "<style scoped>\n",
       "    .dataframe tbody tr th:only-of-type {\n",
       "        vertical-align: middle;\n",
       "    }\n",
       "\n",
       "    .dataframe tbody tr th {\n",
       "        vertical-align: top;\n",
       "    }\n",
       "\n",
       "    .dataframe thead th {\n",
       "        text-align: right;\n",
       "    }\n",
       "</style>\n",
       "<table border=\"1\" class=\"dataframe\">\n",
       "  <thead>\n",
       "    <tr style=\"text-align: right;\">\n",
       "      <th></th>\n",
       "      <th>flight_id</th>\n",
       "      <th>airplane_model</th>\n",
       "      <th>flight_time</th>\n",
       "      <th>seat_qty</th>\n",
       "      <th>arrival_airport</th>\n",
       "      <th>arrival_city</th>\n",
       "      <th>qty_booked_seats</th>\n",
       "      <th>profit</th>\n",
       "      <th>plane_occupancy</th>\n",
       "      <th>departure_day</th>\n",
       "      <th>departure_month</th>\n",
       "    </tr>\n",
       "  </thead>\n",
       "  <tbody>\n",
       "    <tr>\n",
       "      <th>16</th>\n",
       "      <td>136204</td>\n",
       "      <td>Boeing 737-300</td>\n",
       "      <td>100</td>\n",
       "      <td>130</td>\n",
       "      <td>SVO</td>\n",
       "      <td>Moscow</td>\n",
       "      <td>107.0</td>\n",
       "      <td>1.29206</td>\n",
       "      <td>82.3</td>\n",
       "      <td>3</td>\n",
       "      <td>2</td>\n",
       "    </tr>\n",
       "  </tbody>\n",
       "</table>\n",
       "</div>"
      ],
      "text/plain": [
       "    flight_id  airplane_model  flight_time  seat_qty arrival_airport  \\\n",
       "16     136204  Boeing 737-300          100       130             SVO   \n",
       "\n",
       "   arrival_city  qty_booked_seats   profit  plane_occupancy  departure_day  \\\n",
       "16       Moscow             107.0  1.29206             82.3              3   \n",
       "\n",
       "    departure_month  \n",
       "16                2  "
      ]
     },
     "execution_count": 133,
     "metadata": {},
     "output_type": "execute_result"
    }
   ],
   "source": [
    "# у которого заполняемость больше 80 %, однако доход меншь 1.3 млн. руб.\n",
    "data_msc[(data_msc.profit < 1.3) & (data_msc.plane_occupancy > 80)] "
   ]
  },
  {
   "cell_type": "code",
   "execution_count": 127,
   "metadata": {},
   "outputs": [
    {
     "data": {
      "text/html": [
       "<div>\n",
       "<style scoped>\n",
       "    .dataframe tbody tr th:only-of-type {\n",
       "        vertical-align: middle;\n",
       "    }\n",
       "\n",
       "    .dataframe tbody tr th {\n",
       "        vertical-align: top;\n",
       "    }\n",
       "\n",
       "    .dataframe thead th {\n",
       "        text-align: right;\n",
       "    }\n",
       "</style>\n",
       "<table border=\"1\" class=\"dataframe\">\n",
       "  <thead>\n",
       "    <tr style=\"text-align: right;\">\n",
       "      <th></th>\n",
       "      <th>flight_id</th>\n",
       "      <th>airplane_model</th>\n",
       "      <th>flight_time</th>\n",
       "      <th>seat_qty</th>\n",
       "      <th>arrival_airport</th>\n",
       "      <th>arrival_city</th>\n",
       "      <th>qty_booked_seats</th>\n",
       "      <th>profit</th>\n",
       "      <th>plane_occupancy</th>\n",
       "      <th>departure_day</th>\n",
       "      <th>departure_month</th>\n",
       "    </tr>\n",
       "  </thead>\n",
       "  <tbody>\n",
       "    <tr>\n",
       "      <th>46</th>\n",
       "      <td>136423</td>\n",
       "      <td>Boeing 737-300</td>\n",
       "      <td>100</td>\n",
       "      <td>130</td>\n",
       "      <td>SVO</td>\n",
       "      <td>Moscow</td>\n",
       "      <td>129.0</td>\n",
       "      <td>1.683660</td>\n",
       "      <td>99.2</td>\n",
       "      <td>1</td>\n",
       "      <td>1</td>\n",
       "    </tr>\n",
       "    <tr>\n",
       "      <th>3</th>\n",
       "      <td>136130</td>\n",
       "      <td>Boeing 737-300</td>\n",
       "      <td>99</td>\n",
       "      <td>130</td>\n",
       "      <td>SVO</td>\n",
       "      <td>Moscow</td>\n",
       "      <td>107.0</td>\n",
       "      <td>1.392517</td>\n",
       "      <td>82.3</td>\n",
       "      <td>0</td>\n",
       "      <td>2</td>\n",
       "    </tr>\n",
       "    <tr>\n",
       "      <th>37</th>\n",
       "      <td>136351</td>\n",
       "      <td>Boeing 737-300</td>\n",
       "      <td>100</td>\n",
       "      <td>130</td>\n",
       "      <td>SVO</td>\n",
       "      <td>Moscow</td>\n",
       "      <td>105.0</td>\n",
       "      <td>1.389660</td>\n",
       "      <td>80.8</td>\n",
       "      <td>6</td>\n",
       "      <td>2</td>\n",
       "    </tr>\n",
       "    <tr>\n",
       "      <th>18</th>\n",
       "      <td>136215</td>\n",
       "      <td>Boeing 737-300</td>\n",
       "      <td>100</td>\n",
       "      <td>130</td>\n",
       "      <td>SVO</td>\n",
       "      <td>Moscow</td>\n",
       "      <td>114.0</td>\n",
       "      <td>1.498260</td>\n",
       "      <td>87.7</td>\n",
       "      <td>1</td>\n",
       "      <td>2</td>\n",
       "    </tr>\n",
       "    <tr>\n",
       "      <th>38</th>\n",
       "      <td>136360</td>\n",
       "      <td>Boeing 737-300</td>\n",
       "      <td>100</td>\n",
       "      <td>130</td>\n",
       "      <td>SVO</td>\n",
       "      <td>Moscow</td>\n",
       "      <td>97.0</td>\n",
       "      <td>1.289660</td>\n",
       "      <td>74.6</td>\n",
       "      <td>6</td>\n",
       "      <td>2</td>\n",
       "    </tr>\n",
       "    <tr>\n",
       "      <th>41</th>\n",
       "      <td>136387</td>\n",
       "      <td>Boeing 737-300</td>\n",
       "      <td>99</td>\n",
       "      <td>130</td>\n",
       "      <td>SVO</td>\n",
       "      <td>Moscow</td>\n",
       "      <td>121.0</td>\n",
       "      <td>1.610917</td>\n",
       "      <td>93.1</td>\n",
       "      <td>3</td>\n",
       "      <td>1</td>\n",
       "    </tr>\n",
       "    <tr>\n",
       "      <th>58</th>\n",
       "      <td>136486</td>\n",
       "      <td>Boeing 737-300</td>\n",
       "      <td>101</td>\n",
       "      <td>130</td>\n",
       "      <td>SVO</td>\n",
       "      <td>Moscow</td>\n",
       "      <td>107.0</td>\n",
       "      <td>1.338003</td>\n",
       "      <td>82.3</td>\n",
       "      <td>3</td>\n",
       "      <td>2</td>\n",
       "    </tr>\n",
       "    <tr>\n",
       "      <th>6</th>\n",
       "      <td>136135</td>\n",
       "      <td>Boeing 737-300</td>\n",
       "      <td>100</td>\n",
       "      <td>130</td>\n",
       "      <td>SVO</td>\n",
       "      <td>Moscow</td>\n",
       "      <td>115.0</td>\n",
       "      <td>1.512860</td>\n",
       "      <td>88.5</td>\n",
       "      <td>2</td>\n",
       "      <td>2</td>\n",
       "    </tr>\n",
       "    <tr>\n",
       "      <th>49</th>\n",
       "      <td>136439</td>\n",
       "      <td>Boeing 737-300</td>\n",
       "      <td>100</td>\n",
       "      <td>130</td>\n",
       "      <td>SVO</td>\n",
       "      <td>Moscow</td>\n",
       "      <td>117.0</td>\n",
       "      <td>1.536060</td>\n",
       "      <td>90.0</td>\n",
       "      <td>5</td>\n",
       "      <td>2</td>\n",
       "    </tr>\n",
       "    <tr>\n",
       "      <th>19</th>\n",
       "      <td>136226</td>\n",
       "      <td>Boeing 737-300</td>\n",
       "      <td>100</td>\n",
       "      <td>130</td>\n",
       "      <td>SVO</td>\n",
       "      <td>Moscow</td>\n",
       "      <td>130.0</td>\n",
       "      <td>1.720260</td>\n",
       "      <td>100.0</td>\n",
       "      <td>0</td>\n",
       "      <td>1</td>\n",
       "    </tr>\n",
       "  </tbody>\n",
       "</table>\n",
       "</div>"
      ],
      "text/plain": [
       "    flight_id  airplane_model  flight_time  seat_qty arrival_airport  \\\n",
       "46     136423  Boeing 737-300          100       130             SVO   \n",
       "3      136130  Boeing 737-300           99       130             SVO   \n",
       "37     136351  Boeing 737-300          100       130             SVO   \n",
       "18     136215  Boeing 737-300          100       130             SVO   \n",
       "38     136360  Boeing 737-300          100       130             SVO   \n",
       "41     136387  Boeing 737-300           99       130             SVO   \n",
       "58     136486  Boeing 737-300          101       130             SVO   \n",
       "6      136135  Boeing 737-300          100       130             SVO   \n",
       "49     136439  Boeing 737-300          100       130             SVO   \n",
       "19     136226  Boeing 737-300          100       130             SVO   \n",
       "\n",
       "   arrival_city  qty_booked_seats    profit  plane_occupancy  departure_day  \\\n",
       "46       Moscow             129.0  1.683660             99.2              1   \n",
       "3        Moscow             107.0  1.392517             82.3              0   \n",
       "37       Moscow             105.0  1.389660             80.8              6   \n",
       "18       Moscow             114.0  1.498260             87.7              1   \n",
       "38       Moscow              97.0  1.289660             74.6              6   \n",
       "41       Moscow             121.0  1.610917             93.1              3   \n",
       "58       Moscow             107.0  1.338003             82.3              3   \n",
       "6        Moscow             115.0  1.512860             88.5              2   \n",
       "49       Moscow             117.0  1.536060             90.0              5   \n",
       "19       Moscow             130.0  1.720260            100.0              0   \n",
       "\n",
       "    departure_month  \n",
       "46                1  \n",
       "3                 2  \n",
       "37                2  \n",
       "18                2  \n",
       "38                2  \n",
       "41                1  \n",
       "58                2  \n",
       "6                 2  \n",
       "49                2  \n",
       "19                1  "
      ]
     },
     "execution_count": 127,
     "metadata": {},
     "output_type": "execute_result"
    }
   ],
   "source": [
    "data_msc.sample(10)"
   ]
  },
  {
   "cell_type": "code",
   "execution_count": 69,
   "metadata": {},
   "outputs": [
    {
     "data": {
      "text/plain": [
       "<seaborn.axisgrid.PairGrid at 0x2127420f688>"
      ]
     },
     "execution_count": 69,
     "metadata": {},
     "output_type": "execute_result"
    },
    {
     "data": {
      "image/png": "[encoded data removed]",
      "text/plain": [
       "<Figure size 814.75x720 with 20 Axes>"
      ]
     },
     "metadata": {
      "needs_background": "light"
     },
     "output_type": "display_data"
    }
   ],
   "source": [
    "sns.pairplot(data_bgd[['airplane_model','flight_time','profit','departure_day','plane_occupancy','departure_month']], hue = 'departure_month')"
   ]
  },
  {
   "cell_type": "code",
   "execution_count": 73,
   "metadata": {},
   "outputs": [
    {
     "data": {
      "text/plain": [
       "<seaborn.axisgrid.PairGrid at 0x21274d16408>"
      ]
     },
     "execution_count": 73,
     "metadata": {},
     "output_type": "execute_result"
    },
    {
     "data": {
      "image/png": "[encoded data removed]",
      "text/plain": [
       "<Figure size 800.875x720 with 20 Axes>"
      ]
     },
     "metadata": {
      "needs_background": "light"
     },
     "output_type": "display_data"
    }
   ],
   "source": [
    "sns.pairplot(data_msc[['airplane_model','flight_time','profit','departure_day','plane_occupancy','departure_month']], hue = 'departure_day')"
   ]
  },
  {
   "cell_type": "code",
   "execution_count": 120,
   "metadata": {},
   "outputs": [
    {
     "data": {
      "text/plain": [
       "<matplotlib.axes._subplots.AxesSubplot at 0x19f335ae898>"
      ]
     },
     "execution_count": 120,
     "metadata": {},
     "output_type": "execute_result"
    },
    {
     "data": {
      "image/png": "[encoded data removed]",
      "text/plain": [
       "<Figure size 1080x720 with 2 Axes>"
      ]
     },
     "metadata": {
      "needs_background": "light"
     },
     "output_type": "display_data"
    }
   ],
   "source": [
    "plt.rcParams['figure.figsize'] = (15,10)\n",
    "sns.heatmap(data_bgd.corr(),)"
   ]
  },
  {
   "cell_type": "code",
   "execution_count": 68,
   "metadata": {},
   "outputs": [
    {
     "data": {
      "text/html": [
       "<div>\n",
       "<style scoped>\n",
       "    .dataframe tbody tr th:only-of-type {\n",
       "        vertical-align: middle;\n",
       "    }\n",
       "\n",
       "    .dataframe tbody tr th {\n",
       "        vertical-align: top;\n",
       "    }\n",
       "\n",
       "    .dataframe thead th {\n",
       "        text-align: right;\n",
       "    }\n",
       "</style>\n",
       "<table border=\"1\" class=\"dataframe\">\n",
       "  <thead>\n",
       "    <tr style=\"text-align: right;\">\n",
       "      <th></th>\n",
       "      <th>flight_id</th>\n",
       "      <th>airplane_model</th>\n",
       "      <th>flight_time</th>\n",
       "      <th>flight_revenue</th>\n",
       "      <th>seat_qty</th>\n",
       "      <th>arrival_airport</th>\n",
       "      <th>arrival_city</th>\n",
       "      <th>qty_booked_seats</th>\n",
       "      <th>actual_departure</th>\n",
       "      <th>actual_arrival</th>\n",
       "      <th>expenses</th>\n",
       "      <th>profit</th>\n",
       "      <th>plane_occupancy</th>\n",
       "    </tr>\n",
       "  </thead>\n",
       "  <tbody>\n",
       "    <tr>\n",
       "      <th>0</th>\n",
       "      <td>136119</td>\n",
       "      <td>Boeing 737-300</td>\n",
       "      <td>101</td>\n",
       "      <td>1653000.0</td>\n",
       "      <td>130</td>\n",
       "      <td>SVO</td>\n",
       "      <td>Moscow</td>\n",
       "      <td>113.0</td>\n",
       "      <td>2017-01-03 10:08:00+00</td>\n",
       "      <td>2017-01-03 11:49:00+00</td>\n",
       "      <td>167397.4</td>\n",
       "      <td>1485602.6</td>\n",
       "      <td>86.9</td>\n",
       "    </tr>\n",
       "    <tr>\n",
       "      <th>1</th>\n",
       "      <td>136120</td>\n",
       "      <td>Boeing 737-300</td>\n",
       "      <td>99</td>\n",
       "      <td>1605400.0</td>\n",
       "      <td>130</td>\n",
       "      <td>SVO</td>\n",
       "      <td>Moscow</td>\n",
       "      <td>109.0</td>\n",
       "      <td>2017-02-24 10:07:00+00</td>\n",
       "      <td>2017-02-24 11:46:00+00</td>\n",
       "      <td>164082.6</td>\n",
       "      <td>1441317.4</td>\n",
       "      <td>83.8</td>\n",
       "    </tr>\n",
       "    <tr>\n",
       "      <th>2</th>\n",
       "      <td>136122</td>\n",
       "      <td>Boeing 737-300</td>\n",
       "      <td>100</td>\n",
       "      <td>1431000.0</td>\n",
       "      <td>130</td>\n",
       "      <td>SVO</td>\n",
       "      <td>Moscow</td>\n",
       "      <td>97.0</td>\n",
       "      <td>2017-01-08 10:08:00+00</td>\n",
       "      <td>2017-01-08 11:48:00+00</td>\n",
       "      <td>165740.0</td>\n",
       "      <td>1265260.0</td>\n",
       "      <td>74.6</td>\n",
       "    </tr>\n",
       "    <tr>\n",
       "      <th>3</th>\n",
       "      <td>136130</td>\n",
       "      <td>Boeing 737-300</td>\n",
       "      <td>99</td>\n",
       "      <td>1556600.0</td>\n",
       "      <td>130</td>\n",
       "      <td>SVO</td>\n",
       "      <td>Moscow</td>\n",
       "      <td>107.0</td>\n",
       "      <td>2017-02-13 10:07:00+00</td>\n",
       "      <td>2017-02-13 11:46:00+00</td>\n",
       "      <td>164082.6</td>\n",
       "      <td>1392517.4</td>\n",
       "      <td>82.3</td>\n",
       "    </tr>\n",
       "    <tr>\n",
       "      <th>4</th>\n",
       "      <td>136131</td>\n",
       "      <td>Boeing 737-300</td>\n",
       "      <td>99</td>\n",
       "      <td>1812800.0</td>\n",
       "      <td>130</td>\n",
       "      <td>SVO</td>\n",
       "      <td>Moscow</td>\n",
       "      <td>124.0</td>\n",
       "      <td>2017-01-28 10:07:00+00</td>\n",
       "      <td>2017-01-28 11:46:00+00</td>\n",
       "      <td>164082.6</td>\n",
       "      <td>1648717.4</td>\n",
       "      <td>95.4</td>\n",
       "    </tr>\n",
       "  </tbody>\n",
       "</table>\n",
       "</div>"
      ],
      "text/plain": [
       "   flight_id  airplane_model  flight_time  flight_revenue  seat_qty  \\\n",
       "0     136119  Boeing 737-300          101       1653000.0       130   \n",
       "1     136120  Boeing 737-300           99       1605400.0       130   \n",
       "2     136122  Boeing 737-300          100       1431000.0       130   \n",
       "3     136130  Boeing 737-300           99       1556600.0       130   \n",
       "4     136131  Boeing 737-300           99       1812800.0       130   \n",
       "\n",
       "  arrival_airport arrival_city  qty_booked_seats        actual_departure  \\\n",
       "0             SVO       Moscow             113.0  2017-01-03 10:08:00+00   \n",
       "1             SVO       Moscow             109.0  2017-02-24 10:07:00+00   \n",
       "2             SVO       Moscow              97.0  2017-01-08 10:08:00+00   \n",
       "3             SVO       Moscow             107.0  2017-02-13 10:07:00+00   \n",
       "4             SVO       Moscow             124.0  2017-01-28 10:07:00+00   \n",
       "\n",
       "           actual_arrival  expenses     profit  plane_occupancy  \n",
       "0  2017-01-03 11:49:00+00  167397.4  1485602.6             86.9  \n",
       "1  2017-02-24 11:46:00+00  164082.6  1441317.4             83.8  \n",
       "2  2017-01-08 11:48:00+00  165740.0  1265260.0             74.6  \n",
       "3  2017-02-13 11:46:00+00  164082.6  1392517.4             82.3  \n",
       "4  2017-01-28 11:46:00+00  164082.6  1648717.4             95.4  "
      ]
     },
     "execution_count": 68,
     "metadata": {},
     "output_type": "execute_result"
    }
   ],
   "source": [
    "data.head(5)"
   ]
  },
  {
   "cell_type": "code",
   "execution_count": null,
   "metadata": {},
   "outputs": [],
   "source": []
  },
  {
   "cell_type": "code",
   "execution_count": 14,
   "metadata": {},
   "outputs": [
    {
     "data": {
      "image/png": "[encoded data removed]",
      "text/plain": [
       "<Figure size 432x288 with 1 Axes>"
      ]
     },
     "metadata": {
      "needs_background": "light"
     },
     "output_type": "display_data"
    }
   ],
   "source": [
    "data[data.arrival_city == 'Moscow'].profit.hist(bins=20);"
   ]
  },
  {
   "cell_type": "code",
   "execution_count": 15,
   "metadata": {},
   "outputs": [
    {
     "data": {
      "image/png": "[encoded data removed]",
      "text/plain": [
       "<Figure size 432x288 with 1 Axes>"
      ]
     },
     "metadata": {
      "needs_background": "light"
     },
     "output_type": "display_data"
    }
   ],
   "source": [
    "data[data.arrival_city == 'Belgorod'].profit.hist(bins=20);"
   ]
  },
  {
   "cell_type": "markdown",
   "metadata": {},
   "source": [
    "Одним из способов сделать данные более \"нормальными\" является взятие логарифма.  \n",
    "При этом, не должно быть значений, равных 0, иначе метод `np.log` выдаст $-\\infty$."
   ]
  },
  {
   "cell_type": "code",
   "execution_count": 6,
   "metadata": {
    "scrolled": false
   },
   "outputs": [
    {
     "data": {
      "image/png": "[encoded data removed]",
      "text/plain": [
       "<matplotlib.figure.Figure at 0x117b35d30>"
      ]
     },
     "metadata": {},
     "output_type": "display_data"
    }
   ],
   "source": [
    "np.log(vis_data.balance_due[vis_data.balance_due > 0]).hist();"
   ]
  },
  {
   "cell_type": "markdown",
   "metadata": {},
   "source": [
    "Другим способом является взятие квадратного корня от данных:"
   ]
  },
  {
   "cell_type": "code",
   "execution_count": 7,
   "metadata": {},
   "outputs": [
    {
     "data": {
      "image/png": "[encoded data removed]",
      "text/plain": [
       "<matplotlib.figure.Figure at 0x117c7d518>"
      ]
     },
     "metadata": {},
     "output_type": "display_data"
    }
   ],
   "source": [
    "np.sqrt(vis_data.balance_due[vis_data.balance_due > 0]).hist();"
   ]
  },
  {
   "cell_type": "markdown",
   "metadata": {},
   "source": [
    "Выше мы явно отсекли значения в данных, равные `0`. Если значения все-таки начинаются с `0`, перед взятием логарифма можно прибавить `1` к данным. Логарифм от `1` превратится в `0`."
   ]
  },
  {
   "cell_type": "code",
   "execution_count": 8,
   "metadata": {},
   "outputs": [
    {
     "data": {
      "image/png": "[encoded data removed]",
      "text/plain": [
       "<matplotlib.figure.Figure at 0x11711bdd8>"
      ]
     },
     "metadata": {},
     "output_type": "display_data"
    }
   ],
   "source": [
    "np.log(vis_data.balance_due[vis_data.balance_due >= 0] + 1).hist();"
   ]
  },
  {
   "cell_type": "markdown",
   "metadata": {},
   "source": [
    "## Correlation plot"
   ]
  },
  {
   "cell_type": "markdown",
   "metadata": {},
   "source": [
    "Некоторые признаки сильно скоррелированы друг с другом. Это значит, между этими признаками есть некоторая линейная зависимость. Если зависимость большая - часть скоррелированных признаков (не все) следует убрать из выборки, так как они несут избыточную информацию.  \n",
    "При этом, отсутствие корреляции не означает отсутствие зависимости - между признаками в таком случае может быть сложная нелинейная зависимость.  \n",
    "Для определения такой зависимости, можно посчитать матрицу корреляции для признаков и построить, например, heatmap, чтобы проще было увидеть зависимость.  \n",
    "На главной диагонали этой матрицы будут стоять единицы, потому что для признака считается корреляция с самим собой."
   ]
  },
  {
   "cell_type": "code",
   "execution_count": 10,
   "metadata": {},
   "outputs": [],
   "source": [
    "import seaborn as sns"
   ]
  },
  {
   "cell_type": "code",
   "execution_count": 11,
   "metadata": {
    "scrolled": false
   },
   "outputs": [
    {
     "data": {
      "text/html": [
       "<style  type=\"text/css\" >\n",
       "    #T_acbad386_9e39_11e9_b476_9801a7901309 th {\n",
       "          font-size: 7pt;\n",
       "    }    #T_acbad386_9e39_11e9_b476_9801a7901309 td {\n",
       "          padding: 0em 0em;\n",
       "    }    #T_acbad386_9e39_11e9_b476_9801a7901309 th:hover {\n",
       "          font-size: 12pt;\n",
       "    }    #T_acbad386_9e39_11e9_b476_9801a7901309 tr:hover td:hover {\n",
       "          max-width: 200px;\n",
       "          font-size: 12pt;\n",
       "    }    #T_acbad386_9e39_11e9_b476_9801a7901309row0_col0 {\n",
       "            background-color:  #4479bb;\n",
       "            max-width:  80px;\n",
       "            font-size:  10pt;\n",
       "        }    #T_acbad386_9e39_11e9_b476_9801a7901309row0_col1 {\n",
       "            background-color:  #d73c5b;\n",
       "            max-width:  80px;\n",
       "            font-size:  10pt;\n",
       "        }    #T_acbad386_9e39_11e9_b476_9801a7901309row0_col2 {\n",
       "            background-color:  #d73c5b;\n",
       "            max-width:  80px;\n",
       "            font-size:  10pt;\n",
       "        }    #T_acbad386_9e39_11e9_b476_9801a7901309row0_col3 {\n",
       "            background-color:  #d94563;\n",
       "            max-width:  80px;\n",
       "            font-size:  10pt;\n",
       "        }    #T_acbad386_9e39_11e9_b476_9801a7901309row0_col4 {\n",
       "            background-color:  #d8415f;\n",
       "            max-width:  80px;\n",
       "            font-size:  10pt;\n",
       "        }    #T_acbad386_9e39_11e9_b476_9801a7901309row0_col5 {\n",
       "            background-color:  #d94462;\n",
       "            max-width:  80px;\n",
       "            font-size:  10pt;\n",
       "        }    #T_acbad386_9e39_11e9_b476_9801a7901309row0_col6 {\n",
       "            background-color:  #da4966;\n",
       "            max-width:  80px;\n",
       "            font-size:  10pt;\n",
       "        }    #T_acbad386_9e39_11e9_b476_9801a7901309row1_col0 {\n",
       "            background-color:  #d73c5b;\n",
       "            max-width:  80px;\n",
       "            font-size:  10pt;\n",
       "        }    #T_acbad386_9e39_11e9_b476_9801a7901309row1_col1 {\n",
       "            background-color:  #4479bb;\n",
       "            max-width:  80px;\n",
       "            font-size:  10pt;\n",
       "        }    #T_acbad386_9e39_11e9_b476_9801a7901309row1_col2 {\n",
       "            background-color:  #4479bb;\n",
       "            max-width:  80px;\n",
       "            font-size:  10pt;\n",
       "        }    #T_acbad386_9e39_11e9_b476_9801a7901309row1_col3 {\n",
       "            background-color:  #eeacba;\n",
       "            max-width:  80px;\n",
       "            font-size:  10pt;\n",
       "        }    #T_acbad386_9e39_11e9_b476_9801a7901309row1_col4 {\n",
       "            background-color:  #dc526e;\n",
       "            max-width:  80px;\n",
       "            font-size:  10pt;\n",
       "        }    #T_acbad386_9e39_11e9_b476_9801a7901309row1_col5 {\n",
       "            background-color:  #f1b9c4;\n",
       "            max-width:  80px;\n",
       "            font-size:  10pt;\n",
       "        }    #T_acbad386_9e39_11e9_b476_9801a7901309row1_col6 {\n",
       "            background-color:  #eeaab7;\n",
       "            max-width:  80px;\n",
       "            font-size:  10pt;\n",
       "        }    #T_acbad386_9e39_11e9_b476_9801a7901309row2_col0 {\n",
       "            background-color:  #d73c5b;\n",
       "            max-width:  80px;\n",
       "            font-size:  10pt;\n",
       "        }    #T_acbad386_9e39_11e9_b476_9801a7901309row2_col1 {\n",
       "            background-color:  #4479bb;\n",
       "            max-width:  80px;\n",
       "            font-size:  10pt;\n",
       "        }    #T_acbad386_9e39_11e9_b476_9801a7901309row2_col2 {\n",
       "            background-color:  #4479bb;\n",
       "            max-width:  80px;\n",
       "            font-size:  10pt;\n",
       "        }    #T_acbad386_9e39_11e9_b476_9801a7901309row2_col3 {\n",
       "            background-color:  #eeacba;\n",
       "            max-width:  80px;\n",
       "            font-size:  10pt;\n",
       "        }    #T_acbad386_9e39_11e9_b476_9801a7901309row2_col4 {\n",
       "            background-color:  #dc526e;\n",
       "            max-width:  80px;\n",
       "            font-size:  10pt;\n",
       "        }    #T_acbad386_9e39_11e9_b476_9801a7901309row2_col5 {\n",
       "            background-color:  #f1b9c4;\n",
       "            max-width:  80px;\n",
       "            font-size:  10pt;\n",
       "        }    #T_acbad386_9e39_11e9_b476_9801a7901309row2_col6 {\n",
       "            background-color:  #eeaab7;\n",
       "            max-width:  80px;\n",
       "            font-size:  10pt;\n",
       "        }    #T_acbad386_9e39_11e9_b476_9801a7901309row3_col0 {\n",
       "            background-color:  #d83e5d;\n",
       "            max-width:  80px;\n",
       "            font-size:  10pt;\n",
       "        }    #T_acbad386_9e39_11e9_b476_9801a7901309row3_col1 {\n",
       "            background-color:  #eda7b5;\n",
       "            max-width:  80px;\n",
       "            font-size:  10pt;\n",
       "        }    #T_acbad386_9e39_11e9_b476_9801a7901309row3_col2 {\n",
       "            background-color:  #eda7b5;\n",
       "            max-width:  80px;\n",
       "            font-size:  10pt;\n",
       "        }    #T_acbad386_9e39_11e9_b476_9801a7901309row3_col3 {\n",
       "            background-color:  #4479bb;\n",
       "            max-width:  80px;\n",
       "            font-size:  10pt;\n",
       "        }    #T_acbad386_9e39_11e9_b476_9801a7901309row3_col4 {\n",
       "            background-color:  #d73c5b;\n",
       "            max-width:  80px;\n",
       "            font-size:  10pt;\n",
       "        }    #T_acbad386_9e39_11e9_b476_9801a7901309row3_col5 {\n",
       "            background-color:  #477bbc;\n",
       "            max-width:  80px;\n",
       "            font-size:  10pt;\n",
       "        }    #T_acbad386_9e39_11e9_b476_9801a7901309row3_col6 {\n",
       "            background-color:  #5686c1;\n",
       "            max-width:  80px;\n",
       "            font-size:  10pt;\n",
       "        }    #T_acbad386_9e39_11e9_b476_9801a7901309row4_col0 {\n",
       "            background-color:  #d73c5b;\n",
       "            max-width:  80px;\n",
       "            font-size:  10pt;\n",
       "        }    #T_acbad386_9e39_11e9_b476_9801a7901309row4_col1 {\n",
       "            background-color:  #da4b68;\n",
       "            max-width:  80px;\n",
       "            font-size:  10pt;\n",
       "        }    #T_acbad386_9e39_11e9_b476_9801a7901309row4_col2 {\n",
       "            background-color:  #da4b68;\n",
       "            max-width:  80px;\n",
       "            font-size:  10pt;\n",
       "        }    #T_acbad386_9e39_11e9_b476_9801a7901309row4_col3 {\n",
       "            background-color:  #d73d5c;\n",
       "            max-width:  80px;\n",
       "            font-size:  10pt;\n",
       "        }    #T_acbad386_9e39_11e9_b476_9801a7901309row4_col4 {\n",
       "            background-color:  #4479bb;\n",
       "            max-width:  80px;\n",
       "            font-size:  10pt;\n",
       "        }    #T_acbad386_9e39_11e9_b476_9801a7901309row4_col5 {\n",
       "            background-color:  #dc516d;\n",
       "            max-width:  80px;\n",
       "            font-size:  10pt;\n",
       "        }    #T_acbad386_9e39_11e9_b476_9801a7901309row4_col6 {\n",
       "            background-color:  #d73c5b;\n",
       "            max-width:  80px;\n",
       "            font-size:  10pt;\n",
       "        }    #T_acbad386_9e39_11e9_b476_9801a7901309row5_col0 {\n",
       "            background-color:  #d73c5b;\n",
       "            max-width:  80px;\n",
       "            font-size:  10pt;\n",
       "        }    #T_acbad386_9e39_11e9_b476_9801a7901309row5_col1 {\n",
       "            background-color:  #f0b4c0;\n",
       "            max-width:  80px;\n",
       "            font-size:  10pt;\n",
       "        }    #T_acbad386_9e39_11e9_b476_9801a7901309row5_col2 {\n",
       "            background-color:  #f0b4c0;\n",
       "            max-width:  80px;\n",
       "            font-size:  10pt;\n",
       "        }    #T_acbad386_9e39_11e9_b476_9801a7901309row5_col3 {\n",
       "            background-color:  #477bbc;\n",
       "            max-width:  80px;\n",
       "            font-size:  10pt;\n",
       "        }    #T_acbad386_9e39_11e9_b476_9801a7901309row5_col4 {\n",
       "            background-color:  #db4e6a;\n",
       "            max-width:  80px;\n",
       "            font-size:  10pt;\n",
       "        }    #T_acbad386_9e39_11e9_b476_9801a7901309row5_col5 {\n",
       "            background-color:  #4479bb;\n",
       "            max-width:  80px;\n",
       "            font-size:  10pt;\n",
       "        }    #T_acbad386_9e39_11e9_b476_9801a7901309row5_col6 {\n",
       "            background-color:  #5787c2;\n",
       "            max-width:  80px;\n",
       "            font-size:  10pt;\n",
       "        }    #T_acbad386_9e39_11e9_b476_9801a7901309row6_col0 {\n",
       "            background-color:  #d94261;\n",
       "            max-width:  80px;\n",
       "            font-size:  10pt;\n",
       "        }    #T_acbad386_9e39_11e9_b476_9801a7901309row6_col1 {\n",
       "            background-color:  #eca4b3;\n",
       "            max-width:  80px;\n",
       "            font-size:  10pt;\n",
       "        }    #T_acbad386_9e39_11e9_b476_9801a7901309row6_col2 {\n",
       "            background-color:  #eca4b3;\n",
       "            max-width:  80px;\n",
       "            font-size:  10pt;\n",
       "        }    #T_acbad386_9e39_11e9_b476_9801a7901309row6_col3 {\n",
       "            background-color:  #5485c1;\n",
       "            max-width:  80px;\n",
       "            font-size:  10pt;\n",
       "        }    #T_acbad386_9e39_11e9_b476_9801a7901309row6_col4 {\n",
       "            background-color:  #d73c5b;\n",
       "            max-width:  80px;\n",
       "            font-size:  10pt;\n",
       "        }    #T_acbad386_9e39_11e9_b476_9801a7901309row6_col5 {\n",
       "            background-color:  #5787c2;\n",
       "            max-width:  80px;\n",
       "            font-size:  10pt;\n",
       "        }    #T_acbad386_9e39_11e9_b476_9801a7901309row6_col6 {\n",
       "            background-color:  #4479bb;\n",
       "            max-width:  80px;\n",
       "            font-size:  10pt;\n",
       "        }</style>  \n",
       "<table id=\"T_acbad386_9e39_11e9_b476_9801a7901309\" ><caption>Hover to magify</caption> \n",
       "<thead>    <tr> \n",
       "        <th class=\"blank level0\" ></th> \n",
       "        <th class=\"col_heading level0 col0\" >ticket_id</th> \n",
       "        <th class=\"col_heading level0 col1\" >admin_fee</th> \n",
       "        <th class=\"col_heading level0 col2\" >state_fee</th> \n",
       "        <th class=\"col_heading level0 col3\" >late_fee</th> \n",
       "        <th class=\"col_heading level0 col4\" >discount_amount</th> \n",
       "        <th class=\"col_heading level0 col5\" >judgment_amount</th> \n",
       "        <th class=\"col_heading level0 col6\" >balance_due</th> \n",
       "    </tr></thead> \n",
       "<tbody>    <tr> \n",
       "        <th id=\"T_acbad386_9e39_11e9_b476_9801a7901309level0_row0\" class=\"row_heading level0 row0\" >ticket_id</th> \n",
       "        <td id=\"T_acbad386_9e39_11e9_b476_9801a7901309row0_col0\" class=\"data row0 col0\" >1</td> \n",
       "        <td id=\"T_acbad386_9e39_11e9_b476_9801a7901309row0_col1\" class=\"data row0 col1\" >-0.038</td> \n",
       "        <td id=\"T_acbad386_9e39_11e9_b476_9801a7901309row0_col2\" class=\"data row0 col2\" >-0.038</td> \n",
       "        <td id=\"T_acbad386_9e39_11e9_b476_9801a7901309row0_col3\" class=\"data row0 col3\" >-0.0057</td> \n",
       "        <td id=\"T_acbad386_9e39_11e9_b476_9801a7901309row0_col4\" class=\"data row0 col4\" >-0.02</td> \n",
       "        <td id=\"T_acbad386_9e39_11e9_b476_9801a7901309row0_col5\" class=\"data row0 col5\" >-0.013</td> \n",
       "        <td id=\"T_acbad386_9e39_11e9_b476_9801a7901309row0_col6\" class=\"data row0 col6\" >0.0037</td> \n",
       "    </tr>    <tr> \n",
       "        <th id=\"T_acbad386_9e39_11e9_b476_9801a7901309level0_row1\" class=\"row_heading level0 row1\" >admin_fee</th> \n",
       "        <td id=\"T_acbad386_9e39_11e9_b476_9801a7901309row1_col0\" class=\"data row1 col0\" >-0.038</td> \n",
       "        <td id=\"T_acbad386_9e39_11e9_b476_9801a7901309row1_col1\" class=\"data row1 col1\" >1</td> \n",
       "        <td id=\"T_acbad386_9e39_11e9_b476_9801a7901309row1_col2\" class=\"data row1 col2\" >1</td> \n",
       "        <td id=\"T_acbad386_9e39_11e9_b476_9801a7901309row1_col3\" class=\"data row1 col3\" >0.29</td> \n",
       "        <td id=\"T_acbad386_9e39_11e9_b476_9801a7901309row1_col4\" class=\"data row1 col4\" >0.027</td> \n",
       "        <td id=\"T_acbad386_9e39_11e9_b476_9801a7901309row1_col5\" class=\"data row1 col5\" >0.32</td> \n",
       "        <td id=\"T_acbad386_9e39_11e9_b476_9801a7901309row1_col6\" class=\"data row1 col6\" >0.28</td> \n",
       "    </tr>    <tr> \n",
       "        <th id=\"T_acbad386_9e39_11e9_b476_9801a7901309level0_row2\" class=\"row_heading level0 row2\" >state_fee</th> \n",
       "        <td id=\"T_acbad386_9e39_11e9_b476_9801a7901309row2_col0\" class=\"data row2 col0\" >-0.038</td> \n",
       "        <td id=\"T_acbad386_9e39_11e9_b476_9801a7901309row2_col1\" class=\"data row2 col1\" >1</td> \n",
       "        <td id=\"T_acbad386_9e39_11e9_b476_9801a7901309row2_col2\" class=\"data row2 col2\" >1</td> \n",
       "        <td id=\"T_acbad386_9e39_11e9_b476_9801a7901309row2_col3\" class=\"data row2 col3\" >0.29</td> \n",
       "        <td id=\"T_acbad386_9e39_11e9_b476_9801a7901309row2_col4\" class=\"data row2 col4\" >0.027</td> \n",
       "        <td id=\"T_acbad386_9e39_11e9_b476_9801a7901309row2_col5\" class=\"data row2 col5\" >0.32</td> \n",
       "        <td id=\"T_acbad386_9e39_11e9_b476_9801a7901309row2_col6\" class=\"data row2 col6\" >0.28</td> \n",
       "    </tr>    <tr> \n",
       "        <th id=\"T_acbad386_9e39_11e9_b476_9801a7901309level0_row3\" class=\"row_heading level0 row3\" >late_fee</th> \n",
       "        <td id=\"T_acbad386_9e39_11e9_b476_9801a7901309row3_col0\" class=\"data row3 col0\" >-0.0057</td> \n",
       "        <td id=\"T_acbad386_9e39_11e9_b476_9801a7901309row3_col1\" class=\"data row3 col1\" >0.29</td> \n",
       "        <td id=\"T_acbad386_9e39_11e9_b476_9801a7901309row3_col2\" class=\"data row3 col2\" >0.29</td> \n",
       "        <td id=\"T_acbad386_9e39_11e9_b476_9801a7901309row3_col3\" class=\"data row3 col3\" >1</td> \n",
       "        <td id=\"T_acbad386_9e39_11e9_b476_9801a7901309row3_col4\" class=\"data row3 col4\" >-0.014</td> \n",
       "        <td id=\"T_acbad386_9e39_11e9_b476_9801a7901309row3_col5\" class=\"data row3 col5\" >0.99</td> \n",
       "        <td id=\"T_acbad386_9e39_11e9_b476_9801a7901309row3_col6\" class=\"data row3 col6\" >0.95</td> \n",
       "    </tr>    <tr> \n",
       "        <th id=\"T_acbad386_9e39_11e9_b476_9801a7901309level0_row4\" class=\"row_heading level0 row4\" >discount_amount</th> \n",
       "        <td id=\"T_acbad386_9e39_11e9_b476_9801a7901309row4_col0\" class=\"data row4 col0\" >-0.02</td> \n",
       "        <td id=\"T_acbad386_9e39_11e9_b476_9801a7901309row4_col1\" class=\"data row4 col1\" >0.027</td> \n",
       "        <td id=\"T_acbad386_9e39_11e9_b476_9801a7901309row4_col2\" class=\"data row4 col2\" >0.027</td> \n",
       "        <td id=\"T_acbad386_9e39_11e9_b476_9801a7901309row4_col3\" class=\"data row4 col3\" >-0.014</td> \n",
       "        <td id=\"T_acbad386_9e39_11e9_b476_9801a7901309row4_col4\" class=\"data row4 col4\" >1</td> \n",
       "        <td id=\"T_acbad386_9e39_11e9_b476_9801a7901309row4_col5\" class=\"data row4 col5\" >0.041</td> \n",
       "        <td id=\"T_acbad386_9e39_11e9_b476_9801a7901309row4_col6\" class=\"data row4 col6\" >-0.018</td> \n",
       "    </tr>    <tr> \n",
       "        <th id=\"T_acbad386_9e39_11e9_b476_9801a7901309level0_row5\" class=\"row_heading level0 row5\" >judgment_amount</th> \n",
       "        <td id=\"T_acbad386_9e39_11e9_b476_9801a7901309row5_col0\" class=\"data row5 col0\" >-0.013</td> \n",
       "        <td id=\"T_acbad386_9e39_11e9_b476_9801a7901309row5_col1\" class=\"data row5 col1\" >0.32</td> \n",
       "        <td id=\"T_acbad386_9e39_11e9_b476_9801a7901309row5_col2\" class=\"data row5 col2\" >0.32</td> \n",
       "        <td id=\"T_acbad386_9e39_11e9_b476_9801a7901309row5_col3\" class=\"data row5 col3\" >0.99</td> \n",
       "        <td id=\"T_acbad386_9e39_11e9_b476_9801a7901309row5_col4\" class=\"data row5 col4\" >0.041</td> \n",
       "        <td id=\"T_acbad386_9e39_11e9_b476_9801a7901309row5_col5\" class=\"data row5 col5\" >1</td> \n",
       "        <td id=\"T_acbad386_9e39_11e9_b476_9801a7901309row5_col6\" class=\"data row5 col6\" >0.94</td> \n",
       "    </tr>    <tr> \n",
       "        <th id=\"T_acbad386_9e39_11e9_b476_9801a7901309level0_row6\" class=\"row_heading level0 row6\" >balance_due</th> \n",
       "        <td id=\"T_acbad386_9e39_11e9_b476_9801a7901309row6_col0\" class=\"data row6 col0\" >0.0037</td> \n",
       "        <td id=\"T_acbad386_9e39_11e9_b476_9801a7901309row6_col1\" class=\"data row6 col1\" >0.28</td> \n",
       "        <td id=\"T_acbad386_9e39_11e9_b476_9801a7901309row6_col2\" class=\"data row6 col2\" >0.28</td> \n",
       "        <td id=\"T_acbad386_9e39_11e9_b476_9801a7901309row6_col3\" class=\"data row6 col3\" >0.95</td> \n",
       "        <td id=\"T_acbad386_9e39_11e9_b476_9801a7901309row6_col4\" class=\"data row6 col4\" >-0.018</td> \n",
       "        <td id=\"T_acbad386_9e39_11e9_b476_9801a7901309row6_col5\" class=\"data row6 col5\" >0.94</td> \n",
       "        <td id=\"T_acbad386_9e39_11e9_b476_9801a7901309row6_col6\" class=\"data row6 col6\" >1</td> \n",
       "    </tr></tbody> \n",
       "</table> "
      ],
      "text/plain": [
       "<pandas.io.formats.style.Styler at 0x117d20dd8>"
      ]
     },
     "execution_count": 11,
     "metadata": {},
     "output_type": "execute_result"
    }
   ],
   "source": [
    "corr = vis_data.drop(['violation_zip_code', 'payment_amount', \n",
    "                      'clean_up_cost', \n",
    "                      'violation_street_number'], axis=1).\\\n",
    "                dropna(axis=1).\\\n",
    "                corr()\n",
    "cmap = sns.diverging_palette(5, 250, as_cmap=True)\n",
    "\n",
    "def magnify():\n",
    "    return [dict(selector=\"th\",\n",
    "                 props=[(\"font-size\", \"7pt\")]),\n",
    "            dict(selector=\"td\",\n",
    "                 props=[('padding', \"0em 0em\")]),\n",
    "            dict(selector=\"th:hover\",\n",
    "                 props=[(\"font-size\", \"12pt\")]),\n",
    "            dict(selector=\"tr:hover td:hover\",\n",
    "                 props=[('max-width', '200px'),\n",
    "                        ('font-size', '12pt')])\n",
    "]\n",
    "\n",
    "corr.style.background_gradient(cmap, axis=1)\\\n",
    "    .set_properties(**{'max-width': '80px', 'font-size': '10pt'})\\\n",
    "    .set_caption(\"Hover to magify\")\\\n",
    "    .set_precision(2)\\\n",
    "    .set_table_styles(magnify())"
   ]
  },
  {
   "cell_type": "code",
   "execution_count": null,
   "metadata": {},
   "outputs": [],
   "source": []
  }
 ],
 "metadata": {
  "kernelspec": {
   "display_name": "Python 3",
   "language": "python",
   "name": "python3"
  },
  "language_info": {
   "codemirror_mode": {
    "name": "ipython",
    "version": 3
   },
   "file_extension": ".py",
   "mimetype": "text/x-python",
   "name": "python",
   "nbconvert_exporter": "python",
   "pygments_lexer": "ipython3",
   "version": "3.7.0"
  }
 },
 "nbformat": 4,
 "nbformat_minor": 2
}
